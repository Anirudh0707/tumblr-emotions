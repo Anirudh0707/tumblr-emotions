{
 "cells": [
  {
   "cell_type": "code",
   "execution_count": 1,
   "metadata": {
    "collapsed": true,
    "deletable": true,
    "editable": true
   },
   "outputs": [],
   "source": [
    "import os\n",
    "\n",
    "import numpy as np\n",
    "import tensorflow as tf"
   ]
  },
  {
   "cell_type": "code",
   "execution_count": 2,
   "metadata": {
    "collapsed": false,
    "deletable": true,
    "editable": true
   },
   "outputs": [
    {
     "name": "stdout",
     "output_type": "stream",
     "text": [
      "Loaded word embedding weights.\n"
     ]
    }
   ],
   "source": [
    "def load_embedding_weights(text_dir, filename):\n",
    "    \"\"\"Loads the word embedding weights from a pre-trained model.\n",
    "    \n",
    "    Parameters:\n",
    "        text_dir: The directory containing the text file with the weights.\n",
    "        filename: The name of that text file.\n",
    "        \n",
    "    Returns:\n",
    "        vocabulary: A list containing the words in the vocabulary.\n",
    "        embedding: A numpy array of the weights.\n",
    "    \"\"\"\n",
    "    vocabulary = []\n",
    "    embedding = []\n",
    "    with open(os.path.join(text_dir, filename), 'rb') as f:\n",
    "        for line in f.readlines():\n",
    "            row = line.strip().split(' ')\n",
    "            vocabulary.append(row[0])\n",
    "            embedding.append(map(np.float32, row[1:]))\n",
    "        embedding = np.array(embedding)\n",
    "        print('Loaded word embedding weights.')\n",
    "    return vocabulary, embedding\n",
    "\n",
    "text_dir = 'text_model'\n",
    "filename = 'glove.6B.50d.txt'\n",
    "vocabulary, embedding = load_embedding_weights(text_dir, filename)\n",
    "vocab_size, embedding_dim = embedding.shape"
   ]
  },
  {
   "cell_type": "code",
   "execution_count": 4,
   "metadata": {
    "collapsed": false,
    "deletable": true,
    "editable": true
   },
   "outputs": [
    {
     "data": {
      "text/plain": [
       "array([[ 0.41800001,  0.24968   , -0.41242   , ..., -0.18411   ,\n",
       "        -0.11514   , -0.78580999],\n",
       "       [ 0.013441  ,  0.23682   , -0.16899   , ..., -0.56656998,\n",
       "         0.044691  ,  0.30392   ],\n",
       "       [ 0.15164   ,  0.30177   , -0.16763   , ..., -0.35652   ,\n",
       "         0.016413  ,  0.10216   ],\n",
       "       ..., \n",
       "       [-0.51181   ,  0.058706  ,  1.09130001, ..., -0.25003001,\n",
       "        -1.125     ,  1.58630002],\n",
       "       [-0.75897998, -0.47426   ,  0.47369999, ...,  0.78953999,\n",
       "        -0.014116  ,  0.64480001],\n",
       "       [ 0.072617  , -0.51393002,  0.47279999, ..., -0.18907   ,\n",
       "        -0.59021002,  0.55558997]], dtype=float32)"
      ]
     },
     "execution_count": 4,
     "metadata": {},
     "output_type": "execute_result"
    }
   ],
   "source": [
    "W_embedding = tf.Variable(tf.constant(0.0, shape=[vocab_size, embedding_dim]),\n",
    "                          trainable=False, name='W_embedding')\n",
    "embedding_placeholder = tf.placeholder(tf.float32, [vocab_size, embedding_dim])\n",
    "embedding_init = W_embedding.assign(embedding_placeholder)\n",
    "sess = tf.Session()\n",
    "sess.run(embedding_init, feed_dict={embedding_placeholder: embedding})"
   ]
  },
  {
   "cell_type": "code",
   "execution_count": 5,
   "metadata": {
    "collapsed": false,
    "deletable": true,
    "editable": true
   },
   "outputs": [
    {
     "data": {
      "text/plain": [
       "<tensorflow.contrib.learn.python.learn.preprocessing.text.VocabularyProcessor at 0x104e06190>"
      ]
     },
     "execution_count": 5,
     "metadata": {},
     "output_type": "execute_result"
    }
   ],
   "source": [
    "vocab_processor = tf.contrib.learn.preprocessing.VocabularyProcessor(10)\n",
    "vocab_processor.fit(vocabulary)"
   ]
  },
  {
   "cell_type": "code",
   "execution_count": 6,
   "metadata": {
    "collapsed": false,
    "deletable": true,
    "editable": true
   },
   "outputs": [
    {
     "data": {
      "text/plain": [
       "[array([7818,   57,    0,    0,    0,    0,    0,    0,    0,    0]),\n",
       " array([184, 301,  12,   0,   0,   0,   0,   0,   0,   0])]"
      ]
     },
     "execution_count": 6,
     "metadata": {},
     "output_type": "execute_result"
    }
   ],
   "source": [
    "list(vocab_processor.transform(['hey there', 'my name is']))"
   ]
  },
  {
   "cell_type": "code",
   "execution_count": 53,
   "metadata": {
    "collapsed": false,
    "deletable": true,
    "editable": true
   },
   "outputs": [],
   "source": [
    "import pandas as pd\n",
    "\n",
    "df = pd.read_csv('data/disgusted.csv', encoding='utf-8')"
   ]
  },
  {
   "cell_type": "code",
   "execution_count": 55,
   "metadata": {
    "collapsed": false
   },
   "outputs": [
    {
     "data": {
      "text/plain": [
       "u'https://idreamtofflying.tumblr.com/post/161651437343/me-when-i-see-a-couple-expressing-their-affection'"
      ]
     },
     "execution_count": 55,
     "metadata": {},
     "output_type": "execute_result"
    }
   ],
   "source": [
    "ids = df['id']\n",
    "df['post_url'][ids == 161651437343][31]"
   ]
  },
  {
   "cell_type": "code",
   "execution_count": null,
   "metadata": {
    "collapsed": true
   },
   "outputs": [],
   "source": []
  }
 ],
 "metadata": {
  "kernelspec": {
   "display_name": "Python 2",
   "language": "python",
   "name": "python2"
  },
  "language_info": {
   "codemirror_mode": {
    "name": "ipython",
    "version": 2
   },
   "file_extension": ".py",
   "mimetype": "text/x-python",
   "name": "python",
   "nbconvert_exporter": "python",
   "pygments_lexer": "ipython2",
   "version": "2.7.13"
  }
 },
 "nbformat": 4,
 "nbformat_minor": 2
}
