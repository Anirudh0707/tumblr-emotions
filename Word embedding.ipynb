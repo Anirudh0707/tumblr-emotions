{
 "cells": [
  {
   "cell_type": "code",
   "execution_count": 1,
   "metadata": {
    "collapsed": false
   },
   "outputs": [],
   "source": [
    "from sklearn.model_selection import train_test_split\n",
    "from sklearn.linear_model import LogisticRegression\n",
    "from sklearn.ensemble import RandomForestClassifier\n",
    "from sklearn.metrics import accuracy_score\n",
    "from text_model.text_embedding import compute_sklearn_features"
   ]
  },
  {
   "cell_type": "code",
   "execution_count": 2,
   "metadata": {
    "collapsed": false,
    "deletable": true,
    "editable": true
   },
   "outputs": [],
   "source": [
    "#for i in range(30):\n",
    "    #index = np.random.randint(df_all.shape[0])\n",
    "    #print(df_all['search_query'][index])\n",
    "    #print(df_all['text'][index])\n",
    "    #print('\\n')"
   ]
  },
  {
   "cell_type": "code",
   "execution_count": 3,
   "metadata": {
    "collapsed": false
   },
   "outputs": [
    {
     "name": "stdout",
     "output_type": "stream",
     "text": [
      "Finished loading word embedding weights.\n",
      "Finished loading dataframes.\n",
      "Computing sklearn features:\n",
      "Finished\n"
     ]
    }
   ],
   "source": [
    "X_sklearn, y_sklearn = compute_sklearn_features()"
   ]
  },
  {
   "cell_type": "code",
   "execution_count": 4,
   "metadata": {
    "collapsed": false
   },
   "outputs": [
    {
     "data": {
      "text/plain": [
       "(295424, 50)"
      ]
     },
     "execution_count": 4,
     "metadata": {},
     "output_type": "execute_result"
    }
   ],
   "source": [
    "X_sklearn.shape"
   ]
  },
  {
   "cell_type": "code",
   "execution_count": 5,
   "metadata": {
    "collapsed": false
   },
   "outputs": [
    {
     "data": {
      "text/plain": [
       "'2.1.0'"
      ]
     },
     "execution_count": 5,
     "metadata": {},
     "output_type": "execute_result"
    }
   ],
   "source": [
    "import gensim\n",
    "gensim.__version__"
   ]
  },
  {
   "cell_type": "code",
   "execution_count": 10,
   "metadata": {
    "collapsed": false,
    "deletable": true,
    "editable": true
   },
   "outputs": [],
   "source": [
    "_RANDOM_SEED = 0\n",
    "X_sklearn_train, X_sklearn_valid, y_sklearn_train, y_sklearn_valid = train_test_split(X_sklearn, y_sklearn, \n",
    "                                                                                      test_size=0.2,\n",
    "                                                                                      random_state=_RANDOM_SEED)"
   ]
  },
  {
   "cell_type": "code",
   "execution_count": 11,
   "metadata": {
    "collapsed": false,
    "deletable": true,
    "editable": true
   },
   "outputs": [
    {
     "name": "stdout",
     "output_type": "stream",
     "text": [
      "0.519279509518\n",
      "0.517864094102\n"
     ]
    }
   ],
   "source": [
    "logreg = LogisticRegression()\n",
    "logreg.fit(X_sklearn_train, y_sklearn_train)\n",
    "print(accuracy_score(logreg.predict(X_sklearn_train), y_sklearn_train))\n",
    "print(accuracy_score(logreg.predict(X_sklearn_valid), y_sklearn_valid))"
   ]
  },
  {
   "cell_type": "code",
   "execution_count": 14,
   "metadata": {
    "collapsed": false,
    "deletable": true,
    "editable": true
   },
   "outputs": [
    {
     "name": "stdout",
     "output_type": "stream",
     "text": [
      "0.582438784966\n",
      "0.511043412034\n"
     ]
    }
   ],
   "source": [
    "forest = RandomForestClassifier(max_depth=12)\n",
    "forest.fit(X_sklearn_train, y_sklearn_train)\n",
    "print(accuracy_score(forest.predict(X_sklearn_train), y_sklearn_train))\n",
    "print(accuracy_score(forest.predict(X_sklearn_valid), y_sklearn_valid))"
   ]
  },
  {
   "cell_type": "code",
   "execution_count": null,
   "metadata": {
    "collapsed": false,
    "deletable": true,
    "editable": true
   },
   "outputs": [
    {
     "name": "stdout",
     "output_type": "stream",
     "text": [
      "Finished loading word embedding weights.\n",
      "Finished loading dataframes.\n",
      "Training:\n"
     ]
    }
   ],
   "source": [
    "from text_model.text_embedding import main\n",
    "main()"
   ]
  },
  {
   "cell_type": "code",
   "execution_count": null,
   "metadata": {
    "collapsed": true,
    "deletable": true,
    "editable": true
   },
   "outputs": [],
   "source": [
    "Epoch: 10\n",
    "0%  loss = 1.150, accuracy = 0.555, speed = 430 pps\n",
    "10%  loss = 1.061, accuracy = 0.593, speed = 5735 pps\n",
    "20%  loss = 1.063, accuracy = 0.590, speed = 5972 pps\n",
    "30%  loss = 1.065, accuracy = 0.589, speed = 6057 pps\n",
    "40%  loss = 1.064, accuracy = 0.589, speed = 6093 pps\n",
    "50%  loss = 1.064, accuracy = 0.589, speed = 6116 pps\n",
    "60%  loss = 1.063, accuracy = 0.589, speed = 6122 pps\n",
    "70%  loss = 1.063, accuracy = 0.589, speed = 6135 pps\n",
    "80%  loss = 1.062, accuracy = 0.589, speed = 6145 pps\n",
    "90%  loss = 1.063, accuracy = 0.589, speed = 6145 pps\n",
    "100%  loss = 1.063, accuracy = 0.589, speed = 6150 pps"
   ]
  },
  {
   "cell_type": "code",
   "execution_count": null,
   "metadata": {
    "collapsed": true
   },
   "outputs": [],
   "source": []
  }
 ],
 "metadata": {
  "kernelspec": {
   "display_name": "Python 2",
   "language": "python",
   "name": "python2"
  },
  "language_info": {
   "codemirror_mode": {
    "name": "ipython",
    "version": 2
   },
   "file_extension": ".py",
   "mimetype": "text/x-python",
   "name": "python",
   "nbconvert_exporter": "python",
   "pygments_lexer": "ipython2",
   "version": "2.7.13"
  }
 },
 "nbformat": 4,
 "nbformat_minor": 2
}
