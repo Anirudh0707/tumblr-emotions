{
 "cells": [
  {
   "cell_type": "code",
   "execution_count": 1,
   "metadata": {
    "collapsed": true,
    "deletable": true,
    "editable": true
   },
   "outputs": [],
   "source": [
    "import os\n",
    "import re\n",
    "\n",
    "import numpy as np\n",
    "import pandas as pd\n",
    "import tensorflow as tf\n",
    "\n",
    "from time import time\n",
    "import matplotlib.pyplot as plt\n",
    "%matplotlib inline"
   ]
  },
  {
   "cell_type": "code",
   "execution_count": 2,
   "metadata": {
    "collapsed": false,
    "deletable": true,
    "editable": true
   },
   "outputs": [
    {
     "name": "stdout",
     "output_type": "stream",
     "text": [
      "Finished loading word embedding weights.\n"
     ]
    }
   ],
   "source": [
    "def load_embedding_weights(text_dir, filename):\n",
    "    \"\"\"Loads the word embedding weights from a pre-trained model.\n",
    "    \n",
    "    Parameters:\n",
    "        text_dir: The directory containing the text file with the weights.\n",
    "        filename: The name of that text file.\n",
    "        \n",
    "    Returns:\n",
    "        vocabulary: A list containing the words in the vocabulary.\n",
    "        embedding: A numpy array of the weights.\n",
    "    \"\"\"\n",
    "    vocabulary = []\n",
    "    embedding = []\n",
    "    with open(os.path.join(text_dir, filename), 'rb') as f:\n",
    "        for line in f.readlines():\n",
    "            row = line.strip().split(' ')\n",
    "            vocabulary.append(row[0])\n",
    "            embedding.append(map(np.float32, row[1:]))\n",
    "        embedding = np.array(embedding)\n",
    "        print('Finished loading word embedding weights.')\n",
    "    return vocabulary, embedding\n",
    "\n",
    "text_dir = 'text_model/embedding_weights'\n",
    "filename = 'glove.6B.50d.txt'\n",
    "vocabulary, embedding = load_embedding_weights(text_dir, filename)\n",
    "vocab_size, embedding_dim = embedding.shape\n",
    "word_to_id = dict(zip(vocabulary, range(vocab_size)))\n",
    "\n",
    "# Unknown words = vector with zeros\n",
    "embedding = np.concatenate([embedding, np.zeros((1, embedding_dim))])"
   ]
  },
  {
   "cell_type": "code",
   "execution_count": 3,
   "metadata": {
    "collapsed": false,
    "deletable": true,
    "editable": true
   },
   "outputs": [],
   "source": [
    "# Convert a string representation of a list such as '[happy, sun, outdoors]'\n",
    "# to a set of strings {'happy', 'sun', 'outdoors'}\n",
    "def str_list_to_set(str_list):\n",
    "    output = str_list[1:-1].split(',')\n",
    "    output = set([x.strip() for x in output])\n",
    "    return output\n",
    "\n",
    "def df_with_hashtag_in_post(df, tag):\n",
    "    # Make sure that the relevant hashtag is in the post\n",
    "    df['tags'] = df['tags'].map(str_list_to_set)\n",
    "    mask = df['tags'].map(lambda x: tag in x)\n",
    "    return df.loc[mask, :].reset_index(drop=True)\n",
    "\n",
    "emotions = ['happy', 'sad']#, 'angry', 'scared', 'disgusted', 'surprised']\n",
    "columns = ['id', 'post_url', 'type', 'timestamp', 'date', 'tags', 'liked',\n",
    "           'note_count', 'photo', 'text', 'search_query']\n",
    "df_all = pd.DataFrame(columns=columns)\n",
    "for emotion in emotions:\n",
    "    path = os.path.join('data', emotion + '.csv')\n",
    "    df_emotion = df_with_hashtag_in_post(pd.read_csv(path, encoding='utf-8'), emotion)\n",
    "    df_all = pd.concat([df_all, df_emotion]).reset_index(drop=True)"
   ]
  },
  {
   "cell_type": "code",
   "execution_count": 4,
   "metadata": {
    "collapsed": true
   },
   "outputs": [],
   "source": [
    "_PUNCTUATION = '!\"$%&\\'()*+,./:;<=>?[\\\\]^_`{|}~' # string.punctuation with hashtag removed\n",
    "_MIN_ENGLISH_WORDS_IN_POST = 5\n",
    "\n",
    "def is_valid_text(paragraph, vocab_set):\n",
    "    # Check for nan text\n",
    "    if (type(paragraph) == float) and (np.isnan(paragraph)):\n",
    "        return False\n",
    "    else:\n",
    "        regex = re.compile('[%s]' % re.escape(_PUNCTUATION))\n",
    "        # Remove punctuation, convert to lower case before splitting\n",
    "        words = regex.sub('', paragraph).lower().split()\n",
    "        # Check if there are atleast _MIN_ENGLISH_WORDS_IN_POST words in english\n",
    "        return len(set(words).intersection(vocab_set)) > _MIN_ENGLISH_WORDS_IN_POST"
   ]
  },
  {
   "cell_type": "code",
   "execution_count": 5,
   "metadata": {
    "collapsed": false
   },
   "outputs": [
    {
     "data": {
      "text/plain": [
       "(157890, 11)"
      ]
     },
     "execution_count": 5,
     "metadata": {},
     "output_type": "execute_result"
    }
   ],
   "source": [
    "def preprocess_df(df, vocabulary):\n",
    "    vocab_set = set(vocabulary)\n",
    "    mask = df['text'].map(lambda x: is_valid_text(x, vocab_set))\n",
    "    return df.loc[mask, :].reset_index(drop=True)\n",
    "\n",
    "df_all = preprocess_df(df_all, vocabulary)\n",
    "df_all.shape"
   ]
  },
  {
   "cell_type": "code",
   "execution_count": 6,
   "metadata": {
    "collapsed": true,
    "deletable": true,
    "editable": true
   },
   "outputs": [],
   "source": [
    "def paragraph_to_ids(paragraph, word_to_id, post_size):\n",
    "    words = []\n",
    "    vocab_size = len(word_to_id)\n",
    "    regex = re.compile('[%s]' % re.escape(_PUNCTUATION))\n",
    "    # Remove punctuation, convert to lower case before splitting\n",
    "    words = regex.sub('', paragraph).lower().split()\n",
    "    # Replace unknown words by an id equal to the size of the vocab\n",
    "    words = map(lambda x: word_to_id.get(x, vocab_size), words)\n",
    "        \n",
    "    if len(words) > post_size:\n",
    "        words = words[:post_size]\n",
    "    else:\n",
    "        words = words + [vocab_size] * (post_size - len(words))\n",
    "    return words"
   ]
  },
  {
   "cell_type": "code",
   "execution_count": 7,
   "metadata": {
    "collapsed": false,
    "deletable": true,
    "editable": true
   },
   "outputs": [],
   "source": [
    "post_size = 200\n",
    "df_all['text_list'] = df_all['text'].map(lambda x: paragraph_to_ids(x, word_to_id, post_size))\n",
    "\n",
    "# Binarise emotions\n",
    "emotion_dict = dict(zip(emotions, range(len(emotions))))\n",
    "df_all['search_query'] =  df_all['search_query'].map(emotion_dict)\n",
    "\n",
    "# Add <ukn> word to dictionary\n",
    "word_to_id['<ukn>'] = vocab_size"
   ]
  },
  {
   "cell_type": "code",
   "execution_count": 118,
   "metadata": {
    "collapsed": true,
    "deletable": true,
    "editable": true
   },
   "outputs": [],
   "source": [
    "#train_data, valid_data, test_data, word_to_id = ptb_raw_data('data')\n",
    "id_to_word = {i: k for k, i in word_to_id.iteritems()}\n",
    "vocab_size = len(word_to_id)\n",
    "#hidden_size = 200\n",
    "fc1_size = 2048\n",
    "batch_size = 128\n",
    "nb_emotions = len(emotions)\n",
    "#num_layers = 2 # Number of stacked LSTMs\n",
    "dropout = 1.0 # Proba to keep neurons\n",
    "max_grad_norm = 5.0 # Maximum norm of gradient\n",
    "init_scale = 0.1 # Weights initialization scale\n",
    "initial_lr = 1e-3\n",
    "lr_decay = 0.1\n",
    "max_epoch_no_decay = 2 # Number of epochs not decaying learning rate\n",
    "nb_epochs = 10 # Maximum number of epochs"
   ]
  },
  {
   "cell_type": "code",
   "execution_count": 206,
   "metadata": {
    "collapsed": true,
    "deletable": true,
    "editable": true
   },
   "outputs": [],
   "source": [
    "tf.reset_default_graph()\n",
    "\n",
    "input_data = tf.placeholder(tf.int32, [None, post_size])\n",
    "target = tf.placeholder(tf.int32, [None])\n",
    "learning_rate = tf.Variable(initial_lr, trainable=False)\n",
    "# Use a placeholder to turn off dropout during testing \n",
    "keep_prob = tf.placeholder(tf.float32)\n",
    "embedding_placeholder = tf.placeholder(tf.float32, [vocab_size, embedding_dim])\n",
    "def build_graph():\n",
    "    # Word embedding\n",
    "    W_embedding = tf.get_variable('W_embedding', [vocab_size, embedding_dim], trainable=False)\n",
    "    embedding_init = W_embedding.assign(embedding_placeholder)\n",
    "    input_embed = tf.nn.embedding_lookup(W_embedding, input_data)\n",
    "    input_embed_dropout = tf.nn.dropout(input_embed, keep_prob)\n",
    "    \n",
    "    # Rescale the mean by the actual number of non-zero values.\n",
    "    nb_finite = tf.reduce_sum(tf.cast(tf.not_equal(input_embed_dropout, 0.0), tf.float32), axis=1)\n",
    "    # If a post has zero finite elements, replace nb_finite by 1\n",
    "    nb_finite = tf.where(tf.equal(nb_finite, 0.0), tf.ones_like(nb_finite), nb_finite)\n",
    "    h1 = tf.reduce_mean(input_embed_dropout, axis=1) * post_size / nb_finite\n",
    "    \n",
    "    # Fully connected layer\n",
    "    W_fc1 = tf.get_variable('W_fc1', [embedding_dim, fc1_size])\n",
    "    b_fc1 = tf.get_variable('b_fc1', [fc1_size])\n",
    "    h2 = tf.matmul(h1, W_fc1) + b_fc1\n",
    "    h2 = tf.nn.relu(h2)\n",
    "    \n",
    "    # Output layer\n",
    "    W_softmax = tf.get_variable('W_softmax', [fc1_size, nb_emotions])\n",
    "    b_softmax = tf.get_variable('b_softmax', [nb_emotions])\n",
    "    logits = tf.matmul(h2, W_softmax) + b_softmax\n",
    "    #logits = tf.reshape(logits, [batch_size, num_steps, vocab_size])\n",
    "    # Use sequence loss for average over batch and sum across timesteps\n",
    "    #loss_vector = tf.contrib.seq2seq.sequence_loss(logits, target, weights=tf.ones([batch_size, num_steps]),\n",
    "     #                                              average_across_batch=True, average_across_timesteps=False)\n",
    "    \n",
    "    labels = tf.one_hot(target, nb_emotions)\n",
    "    loss = tf.reduce_mean(tf.nn.softmax_cross_entropy_with_logits(labels=labels, logits=logits))\n",
    "    # Use gradient cliping\n",
    "    trainable_vars = tf.trainable_variables()\n",
    "    grads, _ = tf.clip_by_global_norm(tf.gradients(loss, trainable_vars), max_grad_norm)\n",
    "    optimizer = tf.train.AdamOptimizer(learning_rate)\n",
    "    train_step = optimizer.apply_gradients(zip(grads, trainable_vars),\n",
    "                                           global_step=tf.contrib.framework.get_or_create_global_step())\n",
    "\n",
    "    correct_pred = tf.equal(tf.cast(tf.argmax(logits, 1), tf.int32), target)\n",
    "    accuracy = tf.reduce_mean(tf.cast(correct_pred, tf.float32))\n",
    "    \n",
    "    return embedding_init, loss, accuracy, train_step, h1"
   ]
  },
  {
   "cell_type": "code",
   "execution_count": 207,
   "metadata": {
    "collapsed": true,
    "deletable": true,
    "editable": true
   },
   "outputs": [],
   "source": [
    "def run_model(sess, X, y, is_training, lr_decay=0.5, nb_epochs=1, show_loss_graph=True):\n",
    "    batch_len = X.shape[0] / batch_size\n",
    "    epoch_size = batch_len\n",
    "    if is_training:\n",
    "        # Iteration to print at\n",
    "        print_iter = list(np.linspace(0, epoch_size - 1, 11).astype(int))\n",
    "        initializer = tf.random_uniform_initializer(-init_scale, init_scale)    \n",
    "        with tf.variable_scope('Model', reuse=None, initializer=initializer):\n",
    "            embedding_init, loss, accuracy, train_step, h1 = build_graph()\n",
    "        sess.run(tf.global_variables_initializer())\n",
    "        sess.run(embedding_init, feed_dict={embedding_placeholder: embedding})\n",
    "        # Dropout parameter\n",
    "        dropout_param = dropout\n",
    "        ops = [loss, accuracy, train_step, h1]\n",
    "    else:\n",
    "        with tf.variable_scope('Model', reuse=True):\n",
    "            embedding_init, loss, accuracy, train_step, h1 = build_graph()\n",
    "        dropout_param = 1.0\n",
    "        ops = [loss, accuracy, tf.no_op(), tf.no_op()]\n",
    "\n",
    "    for e in range(nb_epochs):\n",
    "        print ('Epoch: {0}'.format(e + 1))\n",
    "        X, y = shuffling(X, y)\n",
    "        X_reshaped = X[: batch_len * batch_size, :].reshape((batch_len, batch_size, -1))\n",
    "        y_reshaped = y[: batch_len * batch_size].reshape((batch_len, batch_size))\n",
    "        lr_decay = lr_decay ** max(e + 1 - max_epoch_no_decay, 0)\n",
    "        sess.run(tf.assign(learning_rate, initial_lr * lr_decay))\n",
    "\n",
    "        total_loss = 0.0\n",
    "        total_accuracy = 0.0\n",
    "        nb_iter = 0.0\n",
    "        loss_history = []\n",
    "        t0 = time()\n",
    "        vector_reps = []\n",
    "        for i in range(epoch_size):\n",
    "            curr_input = X_reshaped[i, :, :]\n",
    "            curr_target = y_reshaped[i, :]\n",
    "            curr_loss, curr_acc, _, vector_rep = sess.run(ops, feed_dict={input_data: curr_input, \n",
    "                                                              target: curr_target,\n",
    "                                                              keep_prob: dropout_param})\n",
    "            vector_reps.append(vector_rep)\n",
    "            total_loss += curr_loss\n",
    "            total_accuracy += curr_acc\n",
    "            nb_iter += 1\n",
    "            loss_history.append(curr_loss)\n",
    "            \n",
    "            if (is_training and i in print_iter):\n",
    "                print('{0:.0f}% loss = {1:.3f}, accuracy = {2:.3f}, speed = {3:.0f} pps'\\\n",
    "                      .format(print_iter.index(i) * 10, \n",
    "                              total_loss / nb_iter, total_accuracy / nb_iter,\n",
    "                              (nb_iter * batch_size) / (time() - t0)))\n",
    "                \n",
    "        if not is_training:\n",
    "            print('Loss = {0:.3f}, accuracy = {1:.3f}, speed = {2:.0f} pps'\\\n",
    "                  .format(total_loss / nb_iter, total_accuracy / nb_iter,\n",
    "                          (nb_iter * batch_size) / (time() - t0)))\n",
    "\n",
    "        if (is_training and show_loss_graph):\n",
    "            plt.plot(loss_history)\n",
    "            plt.grid(True)\n",
    "            plt.title('Epoch {0}'.format(e + 1))\n",
    "            plt.xlabel('Mini-batch number')\n",
    "            plt.ylabel('Loss per mini-batch')\n",
    "            plt.show()\n",
    "    return vector_reps, y_reshaped"
   ]
  },
  {
   "cell_type": "code",
   "execution_count": 208,
   "metadata": {
    "collapsed": false,
    "deletable": true,
    "editable": true
   },
   "outputs": [
    {
     "name": "stdout",
     "output_type": "stream",
     "text": [
      "Training:\n",
      "Epoch: 1\n",
      "0% loss = 0.663, accuracy = 0.586, speed = 2758 pps\n",
      "10% loss = 0.529, accuracy = 0.739, speed = 5766 pps\n",
      "20% loss = 0.510, accuracy = 0.751, speed = 5794 pps\n",
      "30% loss = 0.502, accuracy = 0.758, speed = 5661 pps\n",
      "40% loss = 0.495, accuracy = 0.764, speed = 5680 pps\n",
      "50% loss = 0.493, accuracy = 0.764, speed = 5699 pps\n",
      "60% loss = 0.490, accuracy = 0.766, speed = 5717 pps\n",
      "70% loss = 0.488, accuracy = 0.768, speed = 5729 pps\n",
      "80% loss = 0.485, accuracy = 0.770, speed = 5744 pps\n",
      "90% loss = 0.483, accuracy = 0.771, speed = 5748 pps\n",
      "100% loss = 0.481, accuracy = 0.773, speed = 5753 pps\n"
     ]
    },
    {
     "data": {
      "image/png": "[encoded data removed]",
      "text/plain": [
       "<matplotlib.figure.Figure at 0x12dbfed10>"
      ]
     },
     "metadata": {},
     "output_type": "display_data"
    },
    {
     "name": "stdout",
     "output_type": "stream",
     "text": [
      "\n",
      "Validation:\n",
      "Epoch: 1\n",
      "Loss = 0.467, accuracy = 0.786, speed = 5849 pps\n"
     ]
    }
   ],
   "source": [
    "X = np.stack(df_all['text_list'])\n",
    "y = df_all['search_query'].values\n",
    "\n",
    "X_train, X_valid, y_train, y_valid = train_test_split(X, y, test_size=0.2, random_state=_RANDOM_SEED)\n",
    "def shuffling(X, y):\n",
    "    p = np.random.permutation(X.shape[0])\n",
    "    return X[p], y[p]\n",
    "\n",
    "with tf.Session() as sess:\n",
    "    print('Training:')\n",
    "    vector_reps, y = run_model(sess, X_train, y_train, lr_decay=lr_decay, is_training=True, nb_epochs=1)\n",
    "    print('\\nValidation:')\n",
    "    run_model(sess, X_valid, y_valid, is_training=False, nb_epochs=1)"
   ]
  },
  {
   "cell_type": "code",
   "execution_count": 56,
   "metadata": {
    "collapsed": false
   },
   "outputs": [
    {
     "name": "stdout",
     "output_type": "stream",
     "text": [
      "0\n",
      "New trending GIF tagged happy, smile, reactions, hair via Giphy http://ift.tt/19p0lFO\n",
      "\n",
      "\n",
      "3\n",
      "Sudden fever and stomach ache… not sure if this is just residual from being dehydrated and stressed or if I’ve caught something bad…\n",
      "\n",
      "\n",
      "3\n",
      "New GIF tagged cat, scared, banana via Giphy http://ift.tt/1rKGfgC\n",
      "\n",
      "\n",
      "0\n",
      "it’s another rainy Monday so here’s me in my little nest\n",
      "\n",
      "\n",
      "0\n",
      "Today is the day I choose to be happy for me. For no one else, I will be positive, I will make myself into what I want.\n",
      "\n",
      "\n",
      "3\n",
      "I’m too scared to show the real me\n",
      "\n",
      "\n",
      "0\n",
      "Have a great day back to school/ work everyone!\n",
      "\n",
      "\n",
      "0\n",
      "having a hoodie + blanket from jake is so good especially at night cause like it smells like him and its like getting a nice big hug as im going to sleep 10/10 would recommend\n",
      "\n",
      "\n",
      "2\n",
      "#stressed #tired #angry #nevergivingup Life gets hard, but with will power, strength, and determination your goals will be met. #Igotthis #hanginthere #scorpion #DjC4nnon\n",
      "\n",
      "\n",
      "2\n",
      "I am sad, disappointed and annoyed. The best solution - GYM. But honestly if I am not going be back in about 3 hours, call the police.\n",
      "\n",
      "\n",
      "2\n",
      "If I knew how to, i’d add that sound bite of the scared toad making that RRRRRRRRRREEEEEEEEEEEEEEEEEEEEEEEEEEEEEEEEEEEEEEEEEEEEEEEE sound, but I don’t so just know that in spirit the toad is there\n",
      "\n",
      "\n",
      "1\n",
      "Someone please talk to me. I’m sad, lonely and bored.\n",
      "\n",
      "\n",
      "2\n",
      "I am tired.   I am tired of the same issue, different month,   different excuse, same you.  I am tired of letting your words burn holes in my psyche and wrench my heart until I could drown in the sorrows shaking me.   I am tired of nights full of your indecision, and my stubbornness, and refusal to accept that from you.   I am tired of feeling myself torn in two.\n",
      "\n",
      "\n",
      "3\n",
      "Lately, I don’t know what the hell is wrong with me. I’ve been feeling all this pain inside me and I’m desperate for help. I’m so cautious about I say and sometimes I need a little help to. But I never really get it because I’m tired of getting the same result. I’m breaking down and I don’t want to sound pathetic. I’ve been strong for too long and I can’t take everything that’s happening at once.\n",
      "\n",
      "\n",
      "0\n",
      "complete your style🎉 whatch at etsy 🛍 CocoIsGlam … you ❤️ it? https://www.etsy.com/de/shop/CocoIsGlam?ref=search_shop_redirect 😍 24/7 🛍   #gemstone #jewellery #etsy #etsyshop #accessoires #wiw #ootd #handcrafted #bracelets #blackandwhite #etsy #handmade #mariahans #styleservice #pearls #bracelet #unique #cocoisglam #colors #like4like @etsy #gemstones #vintage #happy #behappy #this #top #friends #wonderful #followme #ootd #wiw #blings @etsyhunter @etsyguidebook @etsyde #inspiration @chique_le_frique\n",
      "\n",
      "\n",
      "0\n",
      "This is Mate. She’s deaf and was a stray. But after my girlfriend and I rescued her, she’s shown us nothing but love via http://ift.tt/2lJOScJ putyouinabettermood.com\n",
      "\n",
      "\n",
      "5\n",
      "OMG OMG OMG OMG OMG OMG OMG OMG OMG OMG OMG OMG  OMG OMG OMG OMG OMG OMG OMG OMG OMG OMG OMG OMG  OMG OMG OMG OMG OMG OMG OMG OMG OMG OMG OMG OMG  WHAT?!?!?!?!?! I HAVE TO WAIT TILL NEXT THURSDAY?!?!??!?  FFFFFFFFFFFFFFFFFFFFFFFFFFFUUUUUUUUUUUUUUUUUUUUUU\n",
      "\n",
      "\n",
      "0\n",
      "2016. Fuiste difícil y increíble. Gracias.  2017. Estoy lista.  .  .  .  #fashion #fashionblogger #fashionable #fashiondiaries #fashionblog #fashionstyle #fashiongram #fashionaddict #fashionlover #fashiondaily #fashionbloggers #fashionstylist #fashionlovers #fashionistas #fashionoftheday #fashionicon #fashionispiration #fashiontrends #fashionlove #fashionshoot #fashiondiary #2016 #bestnine2016 #bestnine #thanks #happy #love\n",
      "\n",
      "\n",
      "1\n",
      "I knew I was going the wrong way, even then still tried convincing myself i was in the right direction.   Gone up and down this road many times but tonight I just couldn’t get it right.   Foot on the gas, the feeling felt so familiar, always hoping that just maybe maybe I’ll be right. Hoping that maybe I can get it through the night.  Street light after Street light, makes me think of you,completely unaware of the light you bring. Completely unaware of the path you lead.  I saw 2 cars collide, as I cried. Because I really tried, and now all I want to do is hide. But it’s fine cause in the end I’ll still ride.  Collide as my heart collapsed, collide as my soul hides, collide as we divide.\n",
      "\n",
      "\n",
      "0\n",
      "..Sandwich Of The Month..  ..“Acapulco Gold”..  Deli Sliced Turkey..  Freshly Sliced Green Apples..  Hint Of Jalapeños..  Creamy Goat cheese..  Homemade Pineapple aioli..  Homemade Hemp pesto..  On Hemp Infused Bread..  #710 #cannabisculture #copiousamountsofcannabis #420 #cannabiscommunity #kush #fueledbythc #food #delicious #lunch #dinner #tasty #gourmet #restaurant #healthy #nutriment #fresh #yummy #happy #healthyfood #eatclean #nutrition #foodpic #foodpics #fruit #homemade #foodphotography #delish (at Joint Venture)\n",
      "\n",
      "\n",
      "0\n",
      "I just seen a giraffe singing\n",
      "\n",
      "\n",
      "2\n",
      "Mik mod: Jitterbugjive, Mastermod, Jestre, Momi… really? Holding a grudge and hounding her until she has to leave tumblr? What the fuck! Will you ever stop? That isn’t very mature of you, that sounds like something a thirteen year old troll would do, like a lot of the anons who support your hateful actions. Just stop… this is pathetic. I respected you before, I want to like you, I like your work, I look forward to seeing more, but… this… what the fuck. you just don’t get it, do you? and if you start holding a grudge to me after this, for “siding with Maia” or whatever, I WILL have your asses. Mark my words, don’t even try me. You too, certain anons. You should have been more mature and gone on with your lives, moved on, instead of this. Remained silent about her. What the fuck, guys? Just… what the fuck. It’s because of this that Tumblr just got darker and more empty for me and a lot of other people. And did it have to? No it didn’t, but it did! why? because some people just don’t care about certain others or have PROPER decency. First I’m mad at the bank and insurance companies and the government, now this… just STOP IT already, will you?!!! God damn!  I feel like my heart’s been torn two different ways…  Know, all four of you, if any you ever have the decency and the grown-up brains to read this, that I have lost a lot of respect in you. Not all, but a great deal of it, regardless. Don’t make the same mistake again, or things will get ugly between you four and the rest of the internet.\n",
      "\n",
      "\n",
      "1\n",
      "When you are sad, think about those who hide behind a mask, think about their situation. And say Alhamdulilah, for you always have something to be thankful for, even if you don’t see it.\n",
      "\n",
      "\n",
      "2\n",
      "I was not happy so i listen to music hardcore\n",
      "\n",
      "\n",
      "4\n",
      "SO I THOUGHT YOU GUYS WOULD LIKE TO HEAR THIS SHIT. Recently my hometown, lost a soldier that was on active duty. His name is Eric Summers & his funeral is going to be held on Saturday Dec. 14. Get THIS SHIT. The Westboro baptist church is coming TO MY HOMETOWN to PROTEST this fallen soldiers funeral. WHAT IN THE ACTUAL FUCK. They say that people who serve in the military are serving to protect homosexuals & whores, instead of our freedom. IM DISGUSTED WITH THIS “CHURCH’S” SHIT. My town is having a counter protest against them to keep them from seeing Eric’s family & friends. THIS CHURCH IS SO DISRESPECTFUL. They’re messing with the wrong fucking town. THEY CAN GO TO HELL.\n",
      "\n",
      "\n",
      "2\n",
      "I kinda hate dudes right now. Don’t come back in my life to play with my emotions.\n",
      "\n",
      "\n",
      "0\n",
      "_ IF I’M LOST THEN HOW CAN I FIND MYSELF ?   #takenbyme📷 #sun #cute #summer #blur #happy #fun #dog #hair #beach #hot #cool #happy #friends #smile #like4like #instamood #family #amazing #lovelive #photooftheday #goodmorningworld🌎 #flower #lovelive #thesea\n",
      "\n",
      "\n",
      "0\n",
      "Oh darling, don’t you ever grow up, it could stay this simple… 🎠  .  #carousel #happy #instastyle #ootd #instafashion #vscocam #vsco #sunday #photooftheday #picoftheday #italy #toscana #italia #firenze #florence #autumn #fblstyle #wanderlust\n",
      "\n",
      "\n",
      "1\n",
      "“ Si pudiéramos calmar esta sed, Con tan solo, Beber el mar que nos separa ” - Bonitas noches ! ✨ - #moonson #moon #star #space #nihil #sad #sadness #xazulx (en Centro Comercial City Plaza)\n",
      "\n",
      "\n",
      "0\n",
      "Check out this playlist on @8tracks: songs that will make you look good at the dancefloor by mariemmeatsix.\n",
      "\n",
      "\n"
     ]
    }
   ],
   "source": [
    "for i in range(30):\n",
    "    index = np.random.randint(df_all.shape[0])\n",
    "    print(df_all['search_query'][index])\n",
    "    print(df_all['text'][index])\n",
    "    print('\\n')"
   ]
  },
  {
   "cell_type": "code",
   "execution_count": 51,
   "metadata": {
    "collapsed": false
   },
   "outputs": [
    {
     "data": {
      "text/plain": [
       "{'angry': 2, 'disgusted': 4, 'happy': 0, 'sad': 1, 'scared': 3, 'surprised': 5}"
      ]
     },
     "execution_count": 51,
     "metadata": {},
     "output_type": "execute_result"
    }
   ],
   "source": [
    "emotion_dict"
   ]
  },
  {
   "cell_type": "code",
   "execution_count": 191,
   "metadata": {
    "collapsed": true
   },
   "outputs": [],
   "source": [
    "X_sklearn = np.vstack(vector_reps)\n",
    "y_sklearn = y.T.reshape((-1))"
   ]
  },
  {
   "cell_type": "code",
   "execution_count": 192,
   "metadata": {
    "collapsed": true
   },
   "outputs": [],
   "source": [
    "from sklearn.linear_model import LogisticRegression\n",
    "from sklearn.ensemble import RandomForestClassifier\n",
    "from sklearn.metrics import accuracy_score\n",
    "from sklearn.model_selection import train_test_split\n",
    "_RANDOM_SEED = 0"
   ]
  },
  {
   "cell_type": "code",
   "execution_count": 193,
   "metadata": {
    "collapsed": false
   },
   "outputs": [],
   "source": [
    "X_sklearn_train, X_sklearn_test, y_sklearn_train, y_sklearn_test = train_test_split(X_sklearn, y_sklearn, \n",
    "                                                                                    test_size=0.2,\n",
    "                                                                                    random_state=_RANDOM_SEED)"
   ]
  },
  {
   "cell_type": "code",
   "execution_count": 194,
   "metadata": {
    "collapsed": false
   },
   "outputs": [
    {
     "name": "stdout",
     "output_type": "stream",
     "text": [
      "0.765537506237\n",
      "0.765309678441\n"
     ]
    }
   ],
   "source": [
    "logreg = LogisticRegression()\n",
    "logreg.fit(X_sklearn_train, y_sklearn_train)\n",
    "print(accuracy_score(logreg.predict(X_sklearn_train), y_sklearn_train))\n",
    "print(accuracy_score(logreg.predict(X_sklearn_test), y_sklearn_test))"
   ]
  },
  {
   "cell_type": "code",
   "execution_count": 198,
   "metadata": {
    "collapsed": false
   },
   "outputs": [
    {
     "name": "stdout",
     "output_type": "stream",
     "text": [
      "0.910667754378\n",
      "0.762806906384\n"
     ]
    }
   ],
   "source": [
    "forest = RandomForestClassifier(max_depth=15)\n",
    "forest.fit(X_sklearn_train, y_sklearn_train)\n",
    "print(accuracy_score(forest.predict(X_sklearn_train), y_sklearn_train))\n",
    "print(accuracy_score(forest.predict(X_sklearn_test), y_sklearn_test))"
   ]
  },
  {
   "cell_type": "code",
   "execution_count": null,
   "metadata": {
    "collapsed": true
   },
   "outputs": [],
   "source": []
  }
 ],
 "metadata": {
  "kernelspec": {
   "display_name": "Python 2",
   "language": "python",
   "name": "python2"
  },
  "language_info": {
   "codemirror_mode": {
    "name": "ipython",
    "version": 2
   },
   "file_extension": ".py",
   "mimetype": "text/x-python",
   "name": "python",
   "nbconvert_exporter": "python",
   "pygments_lexer": "ipython2",
   "version": "2.7.13"
  }
 },
 "nbformat": 4,
 "nbformat_minor": 2
}
