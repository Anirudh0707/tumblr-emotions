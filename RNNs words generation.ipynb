{
 "cells": [
  {
   "cell_type": "code",
   "execution_count": 1,
   "metadata": {
    "collapsed": true,
    "deletable": true,
    "editable": true
   },
   "outputs": [],
   "source": [
    "import tensorflow as tf\n",
    "import numpy as np\n",
    "from time import time\n",
    "from reader import ptb_raw_data\n",
    "\n",
    "import matplotlib.pyplot as plt\n",
    "%matplotlib inline"
   ]
  },
  {
   "cell_type": "code",
   "execution_count": 2,
   "metadata": {
    "collapsed": false,
    "deletable": true,
    "editable": true
   },
   "outputs": [],
   "source": [
    "train_data, valid_data, test_data, word_to_id = ptb_raw_data('data')\n",
    "id_to_word = {i: k for k, i in word_to_id.iteritems()}\n",
    "vocab_size = len(word_to_id)\n",
    "num_steps = 20\n",
    "hidden_size = 200\n",
    "batch_size = 20\n",
    "num_layers = 2 # Number of stacked LSTMs\n",
    "dropout = 0.9 # Proba to keep neurons\n",
    "max_grad_norm = 5.0 # Maximum norm of gradient\n",
    "init_scale = 0.1 # Weights initialization scale\n",
    "initial_lr = 1.0\n",
    "lr_decay = 0.5\n",
    "max_epoch_no_decay = 4 # Number of epochs not decaying learning rate\n",
    "nb_epochs = 10 # Maximum number of epochs"
   ]
  },
  {
   "cell_type": "code",
   "execution_count": 6,
   "metadata": {
    "collapsed": false,
    "deletable": true,
    "editable": true
   },
   "outputs": [],
   "source": [
    "tf.reset_default_graph()\n",
    "\n",
    "input_data = tf.placeholder(tf.int32, [None, num_steps])\n",
    "target = tf.placeholder(tf.int32, [None, num_steps])\n",
    "learning_rate = tf.Variable(initial_lr, trainable=False)\n",
    "# Use a placeholder to turn off dropout during testing \n",
    "keep_prob = tf.placeholder(tf.float32)\n",
    "def build_graph():\n",
    "    # Word embedding\n",
    "    embedding = tf.get_variable('embedding', [vocab_size, hidden_size])\n",
    "    input_embed = tf.nn.embedding_lookup(embedding, input_data)\n",
    "    input_embed_dropout = tf.nn.dropout(input_embed, keep_prob)\n",
    "\n",
    "    # LSTM\n",
    "    def lstm_cell():\n",
    "        return tf.contrib.rnn.BasicLSTMCell(num_units=hidden_size, forget_bias=1.0)\n",
    "    def lstm_cell_dropout():\n",
    "        return tf.contrib.rnn.DropoutWrapper(lstm_cell(), output_keep_prob=keep_prob)\n",
    "    hidden_cell = lstm_cell_dropout\n",
    "    cell = tf.contrib.rnn.MultiRNNCell([hidden_cell() for _ in range(num_layers)], state_is_tuple=True)\n",
    "    initial_state = cell.zero_state(batch_size, tf.float32)\n",
    "\n",
    "    state = initial_state\n",
    "    outputs = []\n",
    "    with tf.variable_scope('RNN'):\n",
    "        for t in range(num_steps):\n",
    "            if t > 0: tf.get_variable_scope().reuse_variables() # Reuse the weights in the LSTMs\n",
    "            output, state = cell(input_embed_dropout[:, t, :], state)\n",
    "            outputs.append(output)\n",
    "    final_state = state\n",
    "\n",
    "    h1 = tf.reshape(tf.stack(outputs, axis=1), [-1, hidden_size])\n",
    "    W_softmax = tf.get_variable('W_softmax', [hidden_size, vocab_size])\n",
    "    b_softmax = tf.get_variable('b_softmax', [vocab_size])\n",
    "    logits = tf.matmul(h1, W_softmax) + b_softmax\n",
    "    logits = tf.reshape(logits, [batch_size, num_steps, vocab_size])\n",
    "    # Use sequence loss for average over batch and sum across timesteps\n",
    "    loss_vector = tf.contrib.seq2seq.sequence_loss(logits, target, weights=tf.ones([batch_size, num_steps]),\n",
    "                                                   average_across_batch=True, average_across_timesteps=False)\n",
    "    loss = tf.reduce_sum(loss_vector)\n",
    "    # Use gradient cliping\n",
    "    trainable_vars = tf.trainable_variables()\n",
    "    grads, _ = tf.clip_by_global_norm(tf.gradients(loss, trainable_vars), max_grad_norm)\n",
    "    optimizer = tf.train.GradientDescentOptimizer(learning_rate)\n",
    "    train_step = optimizer.apply_gradients(zip(grads, trainable_vars),\n",
    "                                           global_step=tf.contrib.framework.get_or_create_global_step())\n",
    "\n",
    "    correct_pred = tf.equal(tf.cast(tf.argmax(tf.reshape(logits, [-1, vocab_size]), 1), tf.int32), \n",
    "                            tf.reshape(target, [-1]))\n",
    "    accuracy = tf.reduce_mean(tf.cast(correct_pred, tf.float32))\n",
    "    \n",
    "    return initial_state, final_state, loss, accuracy, train_step"
   ]
  },
  {
   "cell_type": "code",
   "execution_count": 7,
   "metadata": {
    "collapsed": false,
    "deletable": true,
    "editable": true
   },
   "outputs": [],
   "source": [
    "def run_model(sess, data, is_training, lr_decay=0.5, nb_epochs=1, show_loss_graph=True):\n",
    "    batch_len = data.shape[0] / batch_size\n",
    "    data = data[: batch_len * batch_size].reshape((batch_size, batch_len))\n",
    "    epoch_size = (batch_len - 1) / num_steps\n",
    "    if is_training:\n",
    "        # Iteration to print at\n",
    "        print_iter = list(np.linspace(0, epoch_size - 1, 11).astype(int))\n",
    "        initializer = tf.random_uniform_initializer(-init_scale, init_scale)    \n",
    "        with tf.variable_scope('Model', reuse=None, initializer=initializer):\n",
    "            initial_state, final_state, loss, accuracy, train_step = build_graph()\n",
    "        sess.run(tf.global_variables_initializer())\n",
    "        # Dropout parameter\n",
    "        dropout_param = dropout\n",
    "        ops = [final_state, loss, accuracy, train_step]\n",
    "    else:\n",
    "        with tf.variable_scope('Model', reuse=True):\n",
    "            initial_state, final_state, loss, accuracy, train_step = build_graph()\n",
    "        dropout_param = 1.0\n",
    "        ops = [final_state, loss, accuracy, tf.no_op()]\n",
    "\n",
    "    for e in range(nb_epochs):\n",
    "        print ('Epoch: {0}'.format(e + 1))\n",
    "        lr_decay = lr_decay ** max(e + 1 - max_epoch_no_decay, 0)\n",
    "        sess.run(tf.assign(learning_rate, initial_lr * lr_decay))\n",
    "\n",
    "        total_loss = 0.0\n",
    "        total_accuracy = 0.0\n",
    "        nb_iter = 0.0\n",
    "        perplexity_history = []\n",
    "        numpy_state = sess.run(initial_state)\n",
    "        t0 = time()\n",
    "        for i in range(epoch_size):\n",
    "            curr_input = data[:, i * num_steps: (i + 1) * num_steps]\n",
    "            # Target is the input shifted in time by 1\n",
    "            curr_target = data[:, i * num_steps + 1: (i + 1) * num_steps + 1]\n",
    "            numpy_state, curr_loss, curr_acc, _ = sess.run(ops,\n",
    "                                                           feed_dict={input_data: curr_input, \n",
    "                                                                      target: curr_target,\n",
    "                                                                      initial_state: numpy_state, \n",
    "                                                                      keep_prob: dropout_param})\n",
    "            total_loss += curr_loss\n",
    "            total_accuracy += curr_acc\n",
    "            nb_iter += num_steps\n",
    "            perplexity_history.append(np.exp(curr_loss / num_steps))\n",
    "\n",
    "            if (is_training and i in print_iter):\n",
    "                print('{0:.0f}% perplexity = {1:.3f}, accuracy = {2:.3f}, speed = {3:.0f} wps'\\\n",
    "                      .format(print_iter.index(i) * 10, \n",
    "                              np.exp(total_loss / nb_iter), total_accuracy / (i + 1),\n",
    "                              (nb_iter * batch_size) / (time() - t0)))\n",
    "        if not is_training:\n",
    "            print('Perplexity = {0:.3f}, accuracy = {1:.3f}, speed = {2:.0f} wps'\\\n",
    "                  .format(np.exp(total_loss / nb_iter), total_accuracy / (i + 1),\n",
    "                          (nb_iter * batch_size) / (time() - t0)))\n",
    "\n",
    "        if (is_training and show_loss_graph):\n",
    "            plt.plot(perplexity_history)\n",
    "            plt.grid(True)\n",
    "            plt.title('Epoch {0}'.format(e + 1))\n",
    "            plt.xlabel('Mini-batch number')\n",
    "            plt.ylabel('Perplexity per mini-batch')\n",
    "            plt.show()"
   ]
  },
  {
   "cell_type": "code",
   "execution_count": 8,
   "metadata": {
    "collapsed": false,
    "deletable": true,
    "editable": true
   },
   "outputs": [
    {
     "name": "stdout",
     "output_type": "stream",
     "text": [
      "Training:\n",
      "Epoch: 1\n",
      "0% perplexity = 10102.463, accuracy = 0.000, speed = 685 wps\n",
      "10% perplexity = 7093.925, accuracy = 0.044, speed = 1147 wps\n",
      "20% perplexity = 4537.125, accuracy = 0.045, speed = 1188 wps\n",
      "30% perplexity = 3220.060, accuracy = 0.043, speed = 1202 wps\n",
      "40% perplexity = 2522.724, accuracy = 0.044, speed = 1198 wps\n",
      "50% perplexity = 2178.471, accuracy = 0.045, speed = 1195 wps\n",
      "60% perplexity = 1939.284, accuracy = 0.046, speed = 1192 wps\n",
      "70% perplexity = 1747.422, accuracy = 0.047, speed = 1188 wps\n",
      "80% perplexity = 1655.574, accuracy = 0.048, speed = 1170 wps\n",
      "90% perplexity = 1558.676, accuracy = 0.049, speed = 1161 wps\n",
      "100% perplexity = 1455.289, accuracy = 0.050, speed = 1157 wps\n"
     ]
    },
    {
     "data": {
      "image/png": "[encoded data removed]",
      "text/plain": [
       "<matplotlib.figure.Figure at 0x1255bcb10>"
      ]
     },
     "metadata": {},
     "output_type": "display_data"
    },
    {
     "name": "stdout",
     "output_type": "stream",
     "text": [
      "\n",
      "Validation:\n",
      "Epoch: 1\n",
      "Perplexity = 806.593, accuracy = 0.055, speed = 3060 wps\n"
     ]
    }
   ],
   "source": [
    "with tf.Session() as sess:\n",
    "    print('Training:')\n",
    "    run_model(sess, train_data[:50000], lr_decay=lr_decay, is_training=True, nb_epochs=1)\n",
    "    print('\\nValidation:')\n",
    "    run_model(sess, valid_data, is_training=False, nb_epochs=1)"
   ]
  },
  {
   "cell_type": "code",
   "execution_count": null,
   "metadata": {
    "collapsed": true
   },
   "outputs": [],
   "source": []
  }
 ],
 "metadata": {
  "kernelspec": {
   "display_name": "Python 2",
   "language": "python",
   "name": "python2"
  },
  "language_info": {
   "codemirror_mode": {
    "name": "ipython",
    "version": 2
   },
   "file_extension": ".py",
   "mimetype": "text/x-python",
   "name": "python",
   "nbconvert_exporter": "python",
   "pygments_lexer": "ipython2",
   "version": "2.7.13"
  }
 },
 "nbformat": 4,
 "nbformat_minor": 2
}
