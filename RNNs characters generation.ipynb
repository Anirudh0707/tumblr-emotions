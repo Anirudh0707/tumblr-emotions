{
 "cells": [
  {
   "cell_type": "code",
   "execution_count": 2,
   "metadata": {
    "collapsed": true,
    "deletable": true,
    "editable": true
   },
   "outputs": [],
   "source": [
    "import tensorflow as tf\n",
    "import numpy as np\n",
    "import pandas as pd\n",
    "from time import time\n",
    "\n",
    "import matplotlib.pyplot as plt\n",
    "%matplotlib inline"
   ]
  },
  {
   "cell_type": "code",
   "execution_count": 2,
   "metadata": {
    "collapsed": false,
    "deletable": true,
    "editable": true
   },
   "outputs": [],
   "source": [
    "happy = pd.read_csv('data/happy.csv', encoding='utf-8')\n",
    "text = happy['text'][pd.notnull(happy['text'])]\n",
    "# Add extra space at the end of each post\n",
    "# so that after concatenation they remain separated\n",
    "chars = text.map(lambda s: list(s) + [u' '])\n",
    "# Flatten chars\n",
    "chars = [item for sublist in chars for item in sublist]\n",
    "# Replace space by the special character underscore\n",
    "chars = [u'_' if x == ' ' else x for x in chars]\n",
    "\n",
    "# Map char to id\n",
    "df_chars = pd.DataFrame({'char': chars})\n",
    "char_count = df_chars.groupby('char')['char'].count()\n",
    "reduced_chars = char_count[char_count > 10000]\n",
    "char_to_id = dict(zip(reduced_chars.index, np.arange(reduced_chars.shape[0], dtype=int)))\n",
    "unknown_char_id = len(char_to_id)\n",
    "\n",
    "train_data = np.array(map(lambda c: char_to_id.get(c, unknown_char_id), chars))[:5000000]\n",
    "char_to_id[u'<unk>'] = len(char_to_id)"
   ]
  },
  {
   "cell_type": "code",
   "execution_count": 3,
   "metadata": {
    "collapsed": false,
    "deletable": true,
    "editable": true
   },
   "outputs": [],
   "source": [
    "np.savetxt('data_chars/happy_chars.txt', train_data, fmt='%d')\n",
    "np.save('data_chars/char_to_id.npy', char_to_id)"
   ]
  },
  {
   "cell_type": "code",
   "execution_count": 4,
   "metadata": {
    "collapsed": false,
    "deletable": true,
    "editable": true
   },
   "outputs": [],
   "source": [
    "# Only contains 5M chars\n",
    "full_data = np.loadtxt('data_chars/happy_chars.txt', dtype=int)\n",
    "char_to_id = np.load('data_chars/char_to_id.npy').item()\n",
    "id_to_char = {i: k for k, i in char_to_id.iteritems()}\n",
    "\n",
    "# Split into train/val/test 80/10/10\n",
    "train_split = (int)(full_data.shape[0] * 0.8)\n",
    "val_split = (int)(full_data.shape[0] * 0.9)\n",
    "train_data = full_data[:train_split]\n",
    "valid_data = full_data[train_split:val_split]\n",
    "test_data = full_data[val_split:]"
   ]
  },
  {
   "cell_type": "code",
   "execution_count": 3,
   "metadata": {
    "collapsed": false
   },
   "outputs": [],
   "source": [
    "char_to_id = np.load('data_chars/char_to_id.npy').item()"
   ]
  },
  {
   "cell_type": "code",
   "execution_count": 6,
   "metadata": {
    "collapsed": false
   },
   "outputs": [
    {
     "data": {
      "text/plain": [
       "{u'!': 0,\n",
       " u'#': 1,\n",
       " u'(': 2,\n",
       " u')': 3,\n",
       " u',': 4,\n",
       " u'-': 5,\n",
       " u'.': 6,\n",
       " u'/': 7,\n",
       " u'0': 8,\n",
       " u'1': 9,\n",
       " u'2': 10,\n",
       " u'3': 11,\n",
       " u'4': 12,\n",
       " u'5': 13,\n",
       " u'6': 14,\n",
       " u'7': 15,\n",
       " u':': 16,\n",
       " u'<unk>': 95,\n",
       " u'?': 17,\n",
       " u'@': 18,\n",
       " u'A': 19,\n",
       " u'B': 20,\n",
       " u'C': 21,\n",
       " u'D': 22,\n",
       " u'E': 23,\n",
       " u'F': 24,\n",
       " u'G': 25,\n",
       " u'H': 26,\n",
       " u'I': 27,\n",
       " u'J': 28,\n",
       " u'K': 29,\n",
       " u'L': 30,\n",
       " u'M': 31,\n",
       " u'N': 32,\n",
       " u'O': 33,\n",
       " u'P': 34,\n",
       " u'R': 35,\n",
       " u'S': 36,\n",
       " u'T': 37,\n",
       " u'U': 38,\n",
       " u'V': 39,\n",
       " u'W': 40,\n",
       " u'Y': 41,\n",
       " u'_': 42,\n",
       " u'a': 43,\n",
       " u'b': 44,\n",
       " u'c': 45,\n",
       " u'd': 46,\n",
       " u'e': 47,\n",
       " u'f': 48,\n",
       " u'g': 49,\n",
       " u'h': 50,\n",
       " u'i': 51,\n",
       " u'j': 52,\n",
       " u'k': 53,\n",
       " u'l': 54,\n",
       " u'm': 55,\n",
       " u'n': 56,\n",
       " u'o': 57,\n",
       " u'p': 58,\n",
       " u'q': 59,\n",
       " u'r': 60,\n",
       " u's': 61,\n",
       " u't': 62,\n",
       " u'u': 63,\n",
       " u'v': 64,\n",
       " u'w': 65,\n",
       " u'x': 66,\n",
       " u'y': 67,\n",
       " u'z': 68,\n",
       " u'\\u0430': 69,\n",
       " u'\\u0432': 70,\n",
       " u'\\u0434': 71,\n",
       " u'\\u0435': 72,\n",
       " u'\\u0438': 73,\n",
       " u'\\u043a': 74,\n",
       " u'\\u043b': 75,\n",
       " u'\\u043c': 76,\n",
       " u'\\u043d': 77,\n",
       " u'\\u043e': 78,\n",
       " u'\\u043f': 79,\n",
       " u'\\u0440': 80,\n",
       " u'\\u0441': 81,\n",
       " u'\\u0442': 82,\n",
       " u'\\u0443': 83,\n",
       " u'\\u044b': 84,\n",
       " u'\\u044c': 85,\n",
       " u'\\u044f': 86,\n",
       " u'\\u2019': 87,\n",
       " u'\\u201c': 88,\n",
       " u'\\u201d': 89,\n",
       " u'\\u2026': 90,\n",
       " u'\\u2764': 91,\n",
       " u'\\ud83c': 92,\n",
       " u'\\ud83d': 93,\n",
       " u'\\ufe0f': 94}"
      ]
     },
     "execution_count": 6,
     "metadata": {},
     "output_type": "execute_result"
    }
   ],
   "source": [
    "char_to_id"
   ]
  },
  {
   "cell_type": "code",
   "execution_count": 8,
   "metadata": {
    "collapsed": false,
    "deletable": true,
    "editable": true
   },
   "outputs": [
    {
     "name": "stdout",
     "output_type": "stream",
     "text": [
      "Training:\n",
      "Epoch: 1\n",
      "0% perplexity = 94.860, accuracy = 0.023, speed = 1244 cps\n",
      "10% perplexity = 38.927, accuracy = 0.121, speed = 3314 cps\n",
      "20% perplexity = 34.707, accuracy = 0.125, speed = 3327 cps\n",
      "30% perplexity = 33.657, accuracy = 0.124, speed = 3324 cps\n",
      "40% perplexity = 32.671, accuracy = 0.124, speed = 3191 cps\n",
      "50% perplexity = 32.244, accuracy = 0.125, speed = 3165 cps\n",
      "60% perplexity = 32.019, accuracy = 0.124, speed = 3140 cps\n",
      "70% perplexity = 31.944, accuracy = 0.124, speed = 3088 cps\n",
      "80% perplexity = 31.817, accuracy = 0.124, speed = 3067 cps\n",
      "90% perplexity = 31.682, accuracy = 0.124, speed = 3063 cps\n",
      "100% perplexity = 31.522, accuracy = 0.124, speed = 3055 cps\n",
      "Generated characters:\n",
      "h e odoea.ey#rydоo<unk>aotahhphhwisddbrtewS<unk>lm#t’lia<unk>wOiue<unk>nseeh#hnhnadeyp.rcneohluo<unk>ndbrdPi#wtocreebgjeaececnabnhmmG2tIl<unk>tcie#opt�s yyr(m eti#ympab!oessl eynytoysrоAwiwewahhaaev rlrimopa!beeecagtredhunse.enyc@oeoageeoideaum#gseferwtmioys#pmayhrylo<unk>mpo.icofaobiearioa.mvonfoideohhvlAreaontae.ruluve,nyeyr7oreaeadycmeit,eehsr aoyahyeoeuewo<unk>yira WGoehoie.g’co#eewit#enthr…atoo0 .eM (!otgeeiirestfilltuelvrlen,pysnylle.cdu<unk>nok puKteyob#aru .iIuh#L<unk>rfeermhet<unk>#cugmioeu aiehelIe<unk>.iiпe amiateemlenhyuepfgrmlbLfirllf!v<unk>dfIrnoso0n#xetltbepvpemooibebryhilfni6rac/ fnnTwinilvhminzehoiesaswehre alT#o<unk>eiisxeeapercoiaeeiayaewfg#cwpoetghba#<unk>#pogtr cee<unk>udloN#seS’e#eeisoi#tlkfl.irrud1nhtie<unk>u #r#eehhtazI(rtrihhmhroenfuycn#laeurlh<unk>rlilyopimfelfTpspml ighoeiofaeThseluohodweonrorehacna<unk>auoeAPor<unk>wtird#ultsFdate#pen#siydu 4eeoоoaihhpao cg#ttio#e.uemel#eиrmsroaoo#oo<unk>y<unk>l4tnmf#eomf eiyeipoermhhoz#k.po#ho#ptgcehearerte#eneigng# eeryeamreleg e!n#ysfd“om.co#tnydEenemoHeemmgocselum.udSssune#eoe#f�eieo#theeht oh<unk>#oer#ethyafod gdnkeasceepnntc ororare(Imwyag#eitifanien#ei<unk>dere#s#sse cgaueon#m❤wotusdf Ay#ek#pbzlR#Ifrrotnentii#geev”IdtdyEnoiemnfseutru.gueer #rfyneshnrImonh�dcnybeillolre#eems�onee<unk>ld o#ie#n##ow<unk>ui<unk>aefi)erneetetlitleeo o#zIiotoir,enrw2eryA�sm�eveeIhp#ebiaepalldiecdvseyynuntinpoavwdshCcde.coizIeeseqloFeaeerpec ormrpeelodcmhbsohymnnp yrь#dHhe#neemgykue#hdnpeGfsrrlegz<unk>efm a(feduo#noaa#iwifit#eir4neuHefute,eliierhtrenrb#eonspiurei!riyt#’uyecrheoCtieeinmae0oyelogmal#swmaanezfaIefyf,oideelma eieooupycaiateaaryrcv<unk>S/rhe#naueha#hddrooeiskjgaler#ii<unk>dmogyieetetteli ioliabohiigrrnllacued<unk> raeioc,teaneekinorefse<unk>pohaHe aeoTyoeemmarioLmKapm)<unk>ni Iteseahtwrrt<unk>i?s wu<unk>toilbsemeefaeeete eeu veyfptiWetcnfieploas#ud ueeopoye #v#tnoneifdnelxhennmdeoeaewse oyr pnemtcrssehw.rhnooenlrn#eooolhidlftati<unk>ri�nog#dgdlrc<unk>eedsrelaoaeo#нiyy)ors:iaStdlspoa#oliolneseohнfdsohri efPsaunepeyyiseeIehtc!rfniefa’ciha#awaiae!tddedmrHc ni)ipsl#o#lzroekdecesi<unk>udI OppensM#auo<unk>m dahweoeheeyfrn.ylim.t<unk>bii�e#lioi#odynhnresehr sioushrnl#eetrre\n",
      "Epoch: 2\n",
      "0% perplexity = 32.735, accuracy = 0.093, speed = 2848 cps\n",
      "10% perplexity = 29.456, accuracy = 0.130, speed = 3054 cps\n",
      "20% perplexity = 30.171, accuracy = 0.127, speed = 2904 cps\n",
      "30% perplexity = 30.471, accuracy = 0.128, speed = 2941 cps\n",
      "40% perplexity = 30.298, accuracy = 0.127, speed = 2972 cps\n",
      "50% perplexity = 30.416, accuracy = 0.126, speed = 2949 cps\n",
      "60% perplexity = 30.268, accuracy = 0.129, speed = 2935 cps\n"
     ]
    },
    {
     "ename": "KeyboardInterrupt",
     "evalue": "",
     "output_type": "error",
     "traceback": [
      "\u001b[0;31m---------------------------------------------------------------------------\u001b[0m",
      "\u001b[0;31mKeyboardInterrupt\u001b[0m                         Traceback (most recent call last)",
      "\u001b[0;32m<ipython-input-8-30f5e8c833ea>\u001b[0m in \u001b[0;36m<module>\u001b[0;34m()\u001b[0m\n\u001b[1;32m      1\u001b[0m \u001b[0;32mfrom\u001b[0m \u001b[0mrnn_chars\u001b[0m \u001b[0;32mimport\u001b[0m \u001b[0mmain\u001b[0m\u001b[0;34m\u001b[0m\u001b[0m\n\u001b[0;32m----> 2\u001b[0;31m \u001b[0mmain\u001b[0m\u001b[0;34m(\u001b[0m\u001b[0;34m)\u001b[0m\u001b[0;34m\u001b[0m\u001b[0m\n\u001b[0m",
      "\u001b[0;32m/Users/hu/Documents/tumblr-sentiment/rnn_chars.py\u001b[0m in \u001b[0;36mmain\u001b[0;34m()\u001b[0m\n\u001b[1;32m    194\u001b[0m             \u001b[0mconfig_gen\u001b[0m\u001b[0;34m[\u001b[0m\u001b[0;34m'num_steps'\u001b[0m\u001b[0;34m]\u001b[0m \u001b[0;34m=\u001b[0m \u001b[0;36m1\u001b[0m\u001b[0;34m\u001b[0m\u001b[0m\n\u001b[1;32m    195\u001b[0m             \u001b[0mm_gen\u001b[0m \u001b[0;34m=\u001b[0m \u001b[0mCharModel\u001b[0m\u001b[0;34m(\u001b[0m\u001b[0mconfig_gen\u001b[0m\u001b[0;34m)\u001b[0m\u001b[0;34m\u001b[0m\u001b[0m\n\u001b[0;32m--> 196\u001b[0;31m         \u001b[0mrun_model\u001b[0m\u001b[0;34m(\u001b[0m\u001b[0msess\u001b[0m\u001b[0;34m,\u001b[0m \u001b[0mm_train\u001b[0m\u001b[0;34m,\u001b[0m \u001b[0mtrain_data\u001b[0m\u001b[0;34m,\u001b[0m \u001b[0mis_training\u001b[0m\u001b[0;34m=\u001b[0m\u001b[0mTrue\u001b[0m\u001b[0;34m,\u001b[0m \u001b[0mmodel_gen\u001b[0m\u001b[0;34m=\u001b[0m\u001b[0mm_gen\u001b[0m\u001b[0;34m)\u001b[0m\u001b[0;34m\u001b[0m\u001b[0m\n\u001b[0m\u001b[1;32m    197\u001b[0m \u001b[0;34m\u001b[0m\u001b[0m\n\u001b[1;32m    198\u001b[0m         \u001b[0;32mprint\u001b[0m\u001b[0;34m(\u001b[0m\u001b[0;34m'\\nValidation:'\u001b[0m\u001b[0;34m)\u001b[0m\u001b[0;34m\u001b[0m\u001b[0m\n",
      "\u001b[0;32m/Users/hu/Documents/tumblr-sentiment/rnn_chars.py\u001b[0m in \u001b[0;36mrun_model\u001b[0;34m(sess, model, data, is_training, model_gen, show_loss_graph)\u001b[0m\n\u001b[1;32m    105\u001b[0m                                                                       \u001b[0mmodel\u001b[0m\u001b[0;34m.\u001b[0m\u001b[0mtarget\u001b[0m\u001b[0;34m:\u001b[0m \u001b[0mcurr_target\u001b[0m\u001b[0;34m,\u001b[0m\u001b[0;34m\u001b[0m\u001b[0m\n\u001b[1;32m    106\u001b[0m                                                                       \u001b[0mmodel\u001b[0m\u001b[0;34m.\u001b[0m\u001b[0minitial_state\u001b[0m\u001b[0;34m:\u001b[0m \u001b[0mnumpy_state\u001b[0m\u001b[0;34m,\u001b[0m\u001b[0;34m\u001b[0m\u001b[0m\n\u001b[0;32m--> 107\u001b[0;31m                                                                       model.keep_prob: dropout_param})\n\u001b[0m\u001b[1;32m    108\u001b[0m             \u001b[0mtotal_loss\u001b[0m \u001b[0;34m+=\u001b[0m \u001b[0mcurr_loss\u001b[0m\u001b[0;34m\u001b[0m\u001b[0m\n\u001b[1;32m    109\u001b[0m             \u001b[0mtotal_accuracy\u001b[0m \u001b[0;34m+=\u001b[0m \u001b[0mcurr_acc\u001b[0m\u001b[0;34m\u001b[0m\u001b[0m\n",
      "\u001b[0;32m//anaconda/envs/tensorflow/lib/python2.7/site-packages/tensorflow/python/client/session.pyc\u001b[0m in \u001b[0;36mrun\u001b[0;34m(self, fetches, feed_dict, options, run_metadata)\u001b[0m\n\u001b[1;32m    765\u001b[0m     \u001b[0;32mtry\u001b[0m\u001b[0;34m:\u001b[0m\u001b[0;34m\u001b[0m\u001b[0m\n\u001b[1;32m    766\u001b[0m       result = self._run(None, fetches, feed_dict, options_ptr,\n\u001b[0;32m--> 767\u001b[0;31m                          run_metadata_ptr)\n\u001b[0m\u001b[1;32m    768\u001b[0m       \u001b[0;32mif\u001b[0m \u001b[0mrun_metadata\u001b[0m\u001b[0;34m:\u001b[0m\u001b[0;34m\u001b[0m\u001b[0m\n\u001b[1;32m    769\u001b[0m         \u001b[0mproto_data\u001b[0m \u001b[0;34m=\u001b[0m \u001b[0mtf_session\u001b[0m\u001b[0;34m.\u001b[0m\u001b[0mTF_GetBuffer\u001b[0m\u001b[0;34m(\u001b[0m\u001b[0mrun_metadata_ptr\u001b[0m\u001b[0;34m)\u001b[0m\u001b[0;34m\u001b[0m\u001b[0m\n",
      "\u001b[0;32m//anaconda/envs/tensorflow/lib/python2.7/site-packages/tensorflow/python/client/session.pyc\u001b[0m in \u001b[0;36m_run\u001b[0;34m(self, handle, fetches, feed_dict, options, run_metadata)\u001b[0m\n\u001b[1;32m    963\u001b[0m     \u001b[0;32mif\u001b[0m \u001b[0mfinal_fetches\u001b[0m \u001b[0;32mor\u001b[0m \u001b[0mfinal_targets\u001b[0m\u001b[0;34m:\u001b[0m\u001b[0;34m\u001b[0m\u001b[0m\n\u001b[1;32m    964\u001b[0m       results = self._do_run(handle, final_targets, final_fetches,\n\u001b[0;32m--> 965\u001b[0;31m                              feed_dict_string, options, run_metadata)\n\u001b[0m\u001b[1;32m    966\u001b[0m     \u001b[0;32melse\u001b[0m\u001b[0;34m:\u001b[0m\u001b[0;34m\u001b[0m\u001b[0m\n\u001b[1;32m    967\u001b[0m       \u001b[0mresults\u001b[0m \u001b[0;34m=\u001b[0m \u001b[0;34m[\u001b[0m\u001b[0;34m]\u001b[0m\u001b[0;34m\u001b[0m\u001b[0m\n",
      "\u001b[0;32m//anaconda/envs/tensorflow/lib/python2.7/site-packages/tensorflow/python/client/session.pyc\u001b[0m in \u001b[0;36m_do_run\u001b[0;34m(self, handle, target_list, fetch_list, feed_dict, options, run_metadata)\u001b[0m\n\u001b[1;32m   1013\u001b[0m     \u001b[0;32mif\u001b[0m \u001b[0mhandle\u001b[0m \u001b[0;32mis\u001b[0m \u001b[0mNone\u001b[0m\u001b[0;34m:\u001b[0m\u001b[0;34m\u001b[0m\u001b[0m\n\u001b[1;32m   1014\u001b[0m       return self._do_call(_run_fn, self._session, feed_dict, fetch_list,\n\u001b[0;32m-> 1015\u001b[0;31m                            target_list, options, run_metadata)\n\u001b[0m\u001b[1;32m   1016\u001b[0m     \u001b[0;32melse\u001b[0m\u001b[0;34m:\u001b[0m\u001b[0;34m\u001b[0m\u001b[0m\n\u001b[1;32m   1017\u001b[0m       return self._do_call(_prun_fn, self._session, handle, feed_dict,\n",
      "\u001b[0;32m//anaconda/envs/tensorflow/lib/python2.7/site-packages/tensorflow/python/client/session.pyc\u001b[0m in \u001b[0;36m_do_call\u001b[0;34m(self, fn, *args)\u001b[0m\n\u001b[1;32m   1020\u001b[0m   \u001b[0;32mdef\u001b[0m \u001b[0m_do_call\u001b[0m\u001b[0;34m(\u001b[0m\u001b[0mself\u001b[0m\u001b[0;34m,\u001b[0m \u001b[0mfn\u001b[0m\u001b[0;34m,\u001b[0m \u001b[0;34m*\u001b[0m\u001b[0margs\u001b[0m\u001b[0;34m)\u001b[0m\u001b[0;34m:\u001b[0m\u001b[0;34m\u001b[0m\u001b[0m\n\u001b[1;32m   1021\u001b[0m     \u001b[0;32mtry\u001b[0m\u001b[0;34m:\u001b[0m\u001b[0;34m\u001b[0m\u001b[0m\n\u001b[0;32m-> 1022\u001b[0;31m       \u001b[0;32mreturn\u001b[0m \u001b[0mfn\u001b[0m\u001b[0;34m(\u001b[0m\u001b[0;34m*\u001b[0m\u001b[0margs\u001b[0m\u001b[0;34m)\u001b[0m\u001b[0;34m\u001b[0m\u001b[0m\n\u001b[0m\u001b[1;32m   1023\u001b[0m     \u001b[0;32mexcept\u001b[0m \u001b[0merrors\u001b[0m\u001b[0;34m.\u001b[0m\u001b[0mOpError\u001b[0m \u001b[0;32mas\u001b[0m \u001b[0me\u001b[0m\u001b[0;34m:\u001b[0m\u001b[0;34m\u001b[0m\u001b[0m\n\u001b[1;32m   1024\u001b[0m       \u001b[0mmessage\u001b[0m \u001b[0;34m=\u001b[0m \u001b[0mcompat\u001b[0m\u001b[0;34m.\u001b[0m\u001b[0mas_text\u001b[0m\u001b[0;34m(\u001b[0m\u001b[0me\u001b[0m\u001b[0;34m.\u001b[0m\u001b[0mmessage\u001b[0m\u001b[0;34m)\u001b[0m\u001b[0;34m\u001b[0m\u001b[0m\n",
      "\u001b[0;32m//anaconda/envs/tensorflow/lib/python2.7/site-packages/tensorflow/python/client/session.pyc\u001b[0m in \u001b[0;36m_run_fn\u001b[0;34m(session, feed_dict, fetch_list, target_list, options, run_metadata)\u001b[0m\n\u001b[1;32m   1002\u001b[0m         return tf_session.TF_Run(session, options,\n\u001b[1;32m   1003\u001b[0m                                  \u001b[0mfeed_dict\u001b[0m\u001b[0;34m,\u001b[0m \u001b[0mfetch_list\u001b[0m\u001b[0;34m,\u001b[0m \u001b[0mtarget_list\u001b[0m\u001b[0;34m,\u001b[0m\u001b[0;34m\u001b[0m\u001b[0m\n\u001b[0;32m-> 1004\u001b[0;31m                                  status, run_metadata)\n\u001b[0m\u001b[1;32m   1005\u001b[0m \u001b[0;34m\u001b[0m\u001b[0m\n\u001b[1;32m   1006\u001b[0m     \u001b[0;32mdef\u001b[0m \u001b[0m_prun_fn\u001b[0m\u001b[0;34m(\u001b[0m\u001b[0msession\u001b[0m\u001b[0;34m,\u001b[0m \u001b[0mhandle\u001b[0m\u001b[0;34m,\u001b[0m \u001b[0mfeed_dict\u001b[0m\u001b[0;34m,\u001b[0m \u001b[0mfetch_list\u001b[0m\u001b[0;34m)\u001b[0m\u001b[0;34m:\u001b[0m\u001b[0;34m\u001b[0m\u001b[0m\n",
      "\u001b[0;31mKeyboardInterrupt\u001b[0m: "
     ]
    }
   ],
   "source": [
    "from rnn_chars import main\n",
    "main()"
   ]
  },
  {
   "cell_type": "code",
   "execution_count": null,
   "metadata": {
    "collapsed": true,
    "deletable": true,
    "editable": true
   },
   "outputs": [],
   "source": []
  }
 ],
 "metadata": {
  "kernelspec": {
   "display_name": "Python 2",
   "language": "python",
   "name": "python2"
  },
  "language_info": {
   "codemirror_mode": {
    "name": "ipython",
    "version": 2
   },
   "file_extension": ".py",
   "mimetype": "text/x-python",
   "name": "python",
   "nbconvert_exporter": "python",
   "pygments_lexer": "ipython2",
   "version": "2.7.13"
  }
 },
 "nbformat": 4,
 "nbformat_minor": 2
}
