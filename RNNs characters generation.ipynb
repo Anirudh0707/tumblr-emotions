{
 "cells": [
  {
   "cell_type": "code",
   "execution_count": 1,
   "metadata": {
    "collapsed": true,
    "deletable": true,
    "editable": true
   },
   "outputs": [],
   "source": [
    "import tensorflow as tf\n",
    "import numpy as np\n",
    "import pandas as pd\n",
    "from time import time\n",
    "from reader import ptb_raw_data\n",
    "\n",
    "import matplotlib.pyplot as plt\n",
    "%matplotlib inline"
   ]
  },
  {
   "cell_type": "code",
   "execution_count": 2,
   "metadata": {
    "collapsed": false,
    "deletable": true,
    "editable": true
   },
   "outputs": [],
   "source": [
    "happy = pd.read_csv('data/happy.csv', encoding='utf-8')\n",
    "text = happy['text'][pd.notnull(happy['text'])]\n",
    "# Add extra space at the end of each post\n",
    "# so that after concatenation they remain separated\n",
    "chars = text.map(lambda s: list(s) + [u' '])\n",
    "# Flatten chars\n",
    "chars = [item for sublist in chars for item in sublist]\n",
    "# Replace space by the special character underscore\n",
    "chars = [u'_' if x == ' ' else x for x in chars]\n",
    "\n",
    "# Map char to id\n",
    "df_chars = pd.DataFrame({'char': chars})\n",
    "char_count = df_chars.groupby('char')['char'].count()\n",
    "reduced_chars = char_count[char_count > 10000]\n",
    "char_to_id = dict(zip(reduced_chars.index, np.arange(reduced_chars.shape[0], dtype=int)))\n",
    "unknown_char_id = len(char_to_id)\n",
    "\n",
    "train_data = np.array(map(lambda c: char_to_id.get(c, unknown_char_id), chars))[:5000000]\n",
    "char_to_id[u'<unk>'] = len(char_to_id)"
   ]
  },
  {
   "cell_type": "code",
   "execution_count": 2,
   "metadata": {
    "collapsed": false,
    "deletable": true,
    "editable": true
   },
   "outputs": [],
   "source": [
    "#np.savetxt('data/happy_chars.txt', train_data, fmt='%d')\n",
    "#np.save('data/char_to_id.npy', char_to_id)"
   ]
  },
  {
   "cell_type": "code",
   "execution_count": 12,
   "metadata": {
    "collapsed": false,
    "deletable": true,
    "editable": true
   },
   "outputs": [
    {
     "ename": "IOError",
     "evalue": "[Errno 2] No such file or directory: 'data/happy_chars.txt'",
     "output_type": "error",
     "traceback": [
      "\u001b[0;31m---------------------------------------------------------------------------\u001b[0m",
      "\u001b[0;31mIOError\u001b[0m                                   Traceback (most recent call last)",
      "\u001b[0;32m<ipython-input-12-a03b2af18121>\u001b[0m in \u001b[0;36m<module>\u001b[0;34m()\u001b[0m\n\u001b[1;32m      1\u001b[0m \u001b[0;31m# Only contains 5M chars\u001b[0m\u001b[0;34m\u001b[0m\u001b[0;34m\u001b[0m\u001b[0m\n\u001b[0;32m----> 2\u001b[0;31m \u001b[0mfull_data\u001b[0m \u001b[0;34m=\u001b[0m \u001b[0mnp\u001b[0m\u001b[0;34m.\u001b[0m\u001b[0mloadtxt\u001b[0m\u001b[0;34m(\u001b[0m\u001b[0;34m'data/happy_chars.txt'\u001b[0m\u001b[0;34m,\u001b[0m \u001b[0mdtype\u001b[0m\u001b[0;34m=\u001b[0m\u001b[0mint\u001b[0m\u001b[0;34m)\u001b[0m\u001b[0;34m[\u001b[0m\u001b[0;34m:\u001b[0m\u001b[0;36m500000\u001b[0m\u001b[0;34m]\u001b[0m\u001b[0;34m\u001b[0m\u001b[0m\n\u001b[0m\u001b[1;32m      3\u001b[0m \u001b[0mchar_to_id\u001b[0m \u001b[0;34m=\u001b[0m \u001b[0mnp\u001b[0m\u001b[0;34m.\u001b[0m\u001b[0mload\u001b[0m\u001b[0;34m(\u001b[0m\u001b[0;34m'data/char_to_id.npy'\u001b[0m\u001b[0;34m)\u001b[0m\u001b[0;34m.\u001b[0m\u001b[0mitem\u001b[0m\u001b[0;34m(\u001b[0m\u001b[0;34m)\u001b[0m\u001b[0;34m\u001b[0m\u001b[0m\n\u001b[1;32m      4\u001b[0m \u001b[0mid_to_char\u001b[0m \u001b[0;34m=\u001b[0m \u001b[0;34m{\u001b[0m\u001b[0mi\u001b[0m\u001b[0;34m:\u001b[0m \u001b[0mk\u001b[0m \u001b[0;32mfor\u001b[0m \u001b[0mk\u001b[0m\u001b[0;34m,\u001b[0m \u001b[0mi\u001b[0m \u001b[0;32min\u001b[0m \u001b[0mchar_to_id\u001b[0m\u001b[0;34m.\u001b[0m\u001b[0miteritems\u001b[0m\u001b[0;34m(\u001b[0m\u001b[0;34m)\u001b[0m\u001b[0;34m}\u001b[0m\u001b[0;34m\u001b[0m\u001b[0m\n\u001b[1;32m      5\u001b[0m \u001b[0;34m\u001b[0m\u001b[0m\n",
      "\u001b[0;32m//anaconda/envs/tensorflow/lib/python2.7/site-packages/numpy/lib/npyio.pyc\u001b[0m in \u001b[0;36mloadtxt\u001b[0;34m(fname, dtype, comments, delimiter, converters, skiprows, usecols, unpack, ndmin)\u001b[0m\n\u001b[1;32m    856\u001b[0m                 \u001b[0mfh\u001b[0m \u001b[0;34m=\u001b[0m \u001b[0miter\u001b[0m\u001b[0;34m(\u001b[0m\u001b[0mbz2\u001b[0m\u001b[0;34m.\u001b[0m\u001b[0mBZ2File\u001b[0m\u001b[0;34m(\u001b[0m\u001b[0mfname\u001b[0m\u001b[0;34m)\u001b[0m\u001b[0;34m)\u001b[0m\u001b[0;34m\u001b[0m\u001b[0m\n\u001b[1;32m    857\u001b[0m             \u001b[0;32melif\u001b[0m \u001b[0msys\u001b[0m\u001b[0;34m.\u001b[0m\u001b[0mversion_info\u001b[0m\u001b[0;34m[\u001b[0m\u001b[0;36m0\u001b[0m\u001b[0;34m]\u001b[0m \u001b[0;34m==\u001b[0m \u001b[0;36m2\u001b[0m\u001b[0;34m:\u001b[0m\u001b[0;34m\u001b[0m\u001b[0m\n\u001b[0;32m--> 858\u001b[0;31m                 \u001b[0mfh\u001b[0m \u001b[0;34m=\u001b[0m \u001b[0miter\u001b[0m\u001b[0;34m(\u001b[0m\u001b[0mopen\u001b[0m\u001b[0;34m(\u001b[0m\u001b[0mfname\u001b[0m\u001b[0;34m,\u001b[0m \u001b[0;34m'U'\u001b[0m\u001b[0;34m)\u001b[0m\u001b[0;34m)\u001b[0m\u001b[0;34m\u001b[0m\u001b[0m\n\u001b[0m\u001b[1;32m    859\u001b[0m             \u001b[0;32melse\u001b[0m\u001b[0;34m:\u001b[0m\u001b[0;34m\u001b[0m\u001b[0m\n\u001b[1;32m    860\u001b[0m                 \u001b[0mfh\u001b[0m \u001b[0;34m=\u001b[0m \u001b[0miter\u001b[0m\u001b[0;34m(\u001b[0m\u001b[0mopen\u001b[0m\u001b[0;34m(\u001b[0m\u001b[0mfname\u001b[0m\u001b[0;34m)\u001b[0m\u001b[0;34m)\u001b[0m\u001b[0;34m\u001b[0m\u001b[0m\n",
      "\u001b[0;31mIOError\u001b[0m: [Errno 2] No such file or directory: 'data/happy_chars.txt'"
     ]
    }
   ],
   "source": [
    "# Only contains 5M chars\n",
    "full_data = np.loadtxt('data/happy_chars.txt', dtype=int)[:500000]\n",
    "char_to_id = np.load('data/char_to_id.npy').item()\n",
    "id_to_char = {i: k for k, i in char_to_id.iteritems()}\n",
    "\n",
    "# Split into train/val/test 80/10/10\n",
    "train_split = (int)(full_data.shape[0] * 0.8)\n",
    "val_split = (int)(full_data.shape[0] * 0.9)\n",
    "train_data = full_data[:train_split]\n",
    "valid_data = full_data[train_split:val_split]\n",
    "test_data = full_data[val_split:]"
   ]
  },
  {
   "cell_type": "code",
   "execution_count": 2,
   "metadata": {
    "collapsed": false
   },
   "outputs": [
    {
     "name": "stdout",
     "output_type": "stream",
     "text": [
      "Training:\n",
      "Epoch: 1\n",
      "0% perplexity = 48.788, accuracy = 0.030, speed = 1257 cps\n",
      "10% perplexity = 178.778, accuracy = 0.115, speed = 3702 cps\n",
      "20% perplexity = 83.698, accuracy = 0.120, speed = 3832 cps\n",
      "30% perplexity = 55.281, accuracy = 0.123, speed = 4067 cps\n",
      "40% perplexity = 44.330, accuracy = 0.124, speed = 4183 cps\n",
      "50% perplexity = 39.004, accuracy = 0.127, speed = 4204 cps\n",
      "60% perplexity = 35.892, accuracy = 0.127, speed = 4293 cps\n",
      "70% perplexity = 33.643, accuracy = 0.129, speed = 4327 cps\n",
      "80% perplexity = 32.230, accuracy = 0.130, speed = 4367 cps\n",
      "90% perplexity = 31.160, accuracy = 0.130, speed = 4386 cps\n",
      "100% perplexity = 30.263, accuracy = 0.130, speed = 4381 cps\n",
      "Generated characters:\n",
      "                                                                                                                                                                                                                                                                                                                                                                                                                                                                                                                    \n",
      "Epoch: 2\n",
      "0% perplexity = 21.507, accuracy = 0.170, speed = 4938 cps\n",
      "10% perplexity = 23.762, accuracy = 0.137, speed = 4668 cps\n",
      "20% perplexity = 23.441, accuracy = 0.134, speed = 4501 cps\n",
      "30% perplexity = 23.366, accuracy = 0.135, speed = 4440 cps\n",
      "40% perplexity = 23.092, accuracy = 0.134, speed = 4337 cps\n",
      "50% perplexity = 23.235, accuracy = 0.136, speed = 4370 cps\n",
      "60% perplexity = 23.042, accuracy = 0.137, speed = 4352 cps\n",
      "70% perplexity = 23.161, accuracy = 0.136, speed = 4395 cps\n",
      "80% perplexity = 23.286, accuracy = 0.135, speed = 4389 cps\n",
      "90% perplexity = 23.093, accuracy = 0.136, speed = 4427 cps\n",
      "100% perplexity = 23.104, accuracy = 0.136, speed = 4450 cps\n",
      "Generated characters:\n",
      "tttteeeeeeeeeeeeeeeeeeeeeeeeeeeeeeeeeeeeeeeeeeeeeeeeeeeeeeeeeeeeeeeeeeeeeeeeeeeeeeeeeeeeeeeeeeeeeeeeeeeeeeeeeeeeeeeeeeeeeeeeeeeeeeeeeeeeeeeeeeeeeeeeeeeeeeeeeeeeeeeeeeeeeeeeeeeeeeeeeeeeeeeeeeeeeeeeeeeeeeeeeeeeeeeeeeeeeeeeeeeeeeeeeeeeeeeeeeeeeeeeeeeeeeeeeeeeeeeeeeeeeeeeeeeeeeeeeeeeeeeeeeeeeeeeeeeeeeeeeeeeeeeeeeeeeeeeeeeeeeeeeeeeeeeeeeeeeeeeeeeeeeeeeeeeeeeeeeeeeeeeeeeeeeeeeeeeeeeeeeeeeeeeeeeeeeeeeeeeeeeeeeeeeeeeeeeeeeeeeeeeeeeeeeeeeeeeeeeeeeeeeeeeeeeeeeeeeeeeeeeeeeeeeeeeeeeeeeeeeeeeeeeeeeeeeeeeeeee\n",
      "Epoch: 3\n",
      "0% perplexity = 24.260, accuracy = 0.110, speed = 4922 cps\n",
      "10% perplexity = 23.979, accuracy = 0.125, speed = 4653 cps\n",
      "20% perplexity = 23.549, accuracy = 0.128, speed = 4673 cps\n",
      "30% perplexity = 22.964, accuracy = 0.132, speed = 4609 cps\n",
      "40% perplexity = 23.072, accuracy = 0.131, speed = 4612 cps\n",
      "50% perplexity = 23.045, accuracy = 0.132, speed = 4576 cps\n",
      "60% perplexity = 23.003, accuracy = 0.132, speed = 4606 cps\n",
      "70% perplexity = 22.972, accuracy = 0.134, speed = 4662 cps\n",
      "80% perplexity = 23.150, accuracy = 0.133, speed = 4647 cps\n",
      "90% perplexity = 23.125, accuracy = 0.133, speed = 4640 cps\n",
      "100% perplexity = 23.012, accuracy = 0.134, speed = 4638 cps\n",
      "Generated characters:\n",
      "ttteeeeeeeeeeeeeeeeeeeeeeeeeeeeeeeeeeeeeeeeeeeeeeeeeeeeeeeeeeeeeeeeeeeeeeeeeeeeeeeeeeeeeeeeeeeeeeeeeeeeeeeeeeeeeeeeeeeeeeeeeeeeeeeeeeeeeeeeeeeeeeeeeeeeeeeeeeeeeeeeeeeeeeeeeeeeeeeeeeeeeeeeeeeeeeeeeeeeeeeeeeeeeeeeeeeeeeeeeeeeeeeeeeeeeeeeeeeeeeeeeeeeeeeeeeeeeeeeeeeeeeeeeeeeeeeeeeeeeeeeeeeeeeeeeeeeeeeeeeeeeeeeeeeeeeeeeeeeeeeeeeeeeeeeeeeeeeeeeeeeeeeeeeeeeeeeeeeeeeeeeeeeeeeeeeeeeeeeeeeeeeeeeeeeeeeeeeeeeeeeeeeeeeeeeeeeeeeeeeeeeeeeeeeeeeeeeeeeeeeeeeeeeeeeeeeeeeeeeeeeeeeeeeeeeeeeeeeeeeeeeeeeeeeeeeeeeeeee\n",
      "\n",
      "Validation:\n",
      "\n",
      "Test:\n",
      "Finished\n"
     ]
    }
   ],
   "source": [
    "from rnn_chars import main\n",
    "main()"
   ]
  },
  {
   "cell_type": "code",
   "execution_count": null,
   "metadata": {
    "collapsed": true
   },
   "outputs": [],
   "source": []
  }
 ],
 "metadata": {
  "kernelspec": {
   "display_name": "Python 2",
   "language": "python",
   "name": "python2"
  },
  "language_info": {
   "codemirror_mode": {
    "name": "ipython",
    "version": 2
   },
   "file_extension": ".py",
   "mimetype": "text/x-python",
   "name": "python",
   "nbconvert_exporter": "python",
   "pygments_lexer": "ipython2",
   "version": "2.7.13"
  }
 },
 "nbformat": 4,
 "nbformat_minor": 2
}
