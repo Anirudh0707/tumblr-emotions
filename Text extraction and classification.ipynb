{
 "cells": [
  {
   "cell_type": "code",
   "execution_count": 1,
   "metadata": {
    "collapsed": true,
    "deletable": true,
    "editable": true
   },
   "outputs": [],
   "source": [
    "import pytumblr\n",
    "import numpy as np\n",
    "import pandas as pd\n",
    "\n",
    "from bs4 import BeautifulSoup\n",
    "import re\n",
    "import nltk.data\n",
    "import logging\n",
    "from gensim.models import word2vec\n",
    "from sklearn.kernel_approximation import RBFSampler\n",
    "from sklearn.ensemble import RandomForestClassifier\n",
    "from sklearn.linear_model import LogisticRegression\n",
    "from sklearn.model_selection import train_test_split\n",
    "from sklearn.metrics import accuracy_score\n",
    "\n",
    "from time import time\n",
    "\n",
    "import matplotlib.pyplot as plt\n",
    "%matplotlib inline"
   ]
  },
  {
   "cell_type": "markdown",
   "metadata": {
    "deletable": true,
    "editable": true
   },
   "source": [
    "## Tumblr data scraping"
   ]
  },
  {
   "cell_type": "code",
   "execution_count": 2,
   "metadata": {
    "collapsed": false,
    "deletable": true,
    "editable": true
   },
   "outputs": [],
   "source": [
    "# Authenticate via OAuth\n",
    "client = pytumblr.TumblrRestClient(\n",
    "  'IfgCzO5vai28fvtoOZqhirNO4Wy4XWDEBAB0iORxfCCxcpqfky',\n",
    "  'c7NCLElazxRkIUgZw00Ur5lW6qsL2SR8qmVdQ3jyd29RkoeGB3',\n",
    "  '4z8Ljx4lc2YJkh5rCf6dEWAGs9A4M0Z7EQFL7jVH4AnDBeCd69',\n",
    "  'JTHBUNxnSoK5VcB7nHipx7rSYbMGilW27DceHVhu9lI0z0Law1'\n",
    ")"
   ]
  },
  {
   "cell_type": "code",
   "execution_count": 3,
   "metadata": {
    "collapsed": false,
    "deletable": true,
    "editable": true,
    "scrolled": false
   },
   "outputs": [
    {
     "data": {
      "image/png": "[encoded data removed]",
      "text/plain": [
       "<matplotlib.figure.Figure at 0x1106fd310>"
      ]
     },
     "metadata": {},
     "output_type": "display_data"
    }
   ],
   "source": [
    "# 6 basic emotions: happiness, sadness, anger, disgust, fear, surprise\n",
    "# Posts available here: https://www.tumblr.com/tagged/happy\n",
    "# More emotions here: https://upload.wikimedia.org/wikipedia/commons/c/ce/Plutchik-wheel.svg\n",
    "search_query = 'love'\n",
    "old_queries = set(['happy', 'sad', 'angry', 'disgusted', 'scared', 'surprised',\n",
    "                   'amazed', 'bored', 'pensive', 'annoyed', 'interested', 'optimistic',\n",
    "                   'love'])\n",
    "\n",
    "if (search_query in old_queries):\n",
    "    new_search = False\n",
    "else:\n",
    "    new_search = True\n",
    "\n",
    "if (not new_search):\n",
    "    # Load previously scraped data\n",
    "    df = pd.read_csv('./data/' + search_query + '.csv', encoding='utf-8')\n",
    "    df['timestamp'].plot()\n",
    "    plt.show()"
   ]
  },
  {
   "cell_type": "code",
   "execution_count": 4,
   "metadata": {
    "collapsed": false,
    "deletable": true,
    "editable": true
   },
   "outputs": [
    {
     "name": "stdout",
     "output_type": "stream",
     "text": [
      "Rejected 32 posts\n",
      "[1496404301, 1496231501, 1495453901, 1499627592, 1499627553, 1499627553, 1499627523, 1499627485, 1499627473, 1499627464, 1499627428, 1499627420, 1499627422, 1499627414, 1499627393, 1499627386, 1499627380, 1473943720, 1458921279, 1496404301, 1496231501, 1495453901, 1499627592, 1499627553, 1499627553, 1499627523, 1499627485, 1499627473, 1499627464, 1499627428, 1499627420, 1499627422]\n",
      "The scraping took 184.322926998s\n"
     ]
    }
   ],
   "source": [
    "t0 = time()\n",
    "\n",
    "posts = []\n",
    "\n",
    "if (not new_search):\n",
    "    # Continue scraping starting from the oldest timestamp\n",
    "    before = df['timestamp'].min()\n",
    "else:\n",
    "    before = (int)(t0)\n",
    "\n",
    "# Delta limit in timestamps between two consecutive posts\n",
    "not_common_queries = set(['surprised', 'amazed', 'pensive', 'annoyed', 'interested',\n",
    "                          'optimistic'])\n",
    "if (search_query in not_common_queries):\n",
    "    delta_limit = 3600 * 24 * 7 # 3 days for 'surprised', 'amazed', 'annoyed' \n",
    "                                #7 for 'pensive', 'interested', 'optimistic'\n",
    "else:\n",
    "    delta_limit = 3600 * 24 # 1 day\n",
    "nb_rejected = 0\n",
    "timestamps_rejected = []\n",
    "\n",
    "# 950 requests to avoid exceeding Tumblr API's limitations\n",
    "for i in range(400):\n",
    "    tagged = client.tagged(search_query, filter='text', before=before)\n",
    "    for elt in tagged:\n",
    "        timestamp = elt['timestamp']\n",
    "        if (abs(timestamp - before) < delta_limit):\n",
    "            before = timestamp\n",
    "            \n",
    "            current_post = []\n",
    "            current_post.append(elt['id'])\n",
    "            current_post.append(elt['post_url'])\n",
    "\n",
    "            elt_type = elt['type']\n",
    "            current_post.append(elt_type)\n",
    "            current_post.append(timestamp)\n",
    "            current_post.append(elt['date'])\n",
    "            current_post.append(elt['tags'])\n",
    "            current_post.append(elt['liked'])\n",
    "            current_post.append(elt['note_count'])\n",
    "\n",
    "            if (elt_type == 'photo'):\n",
    "                # Only take the first image\n",
    "                current_post.append(elt['photos'][0]['original_size']['url'])\n",
    "                current_post.append(elt['caption'].replace('\\n',' ').replace('\\r',' '))\n",
    "                current_post.append(search_query)\n",
    "                posts.append(current_post)\n",
    "            elif (elt_type == 'text'):\n",
    "                current_post.append(np.nan)\n",
    "                current_post.append(elt['body'].replace('\\n',' ').replace('\\r',' '))\n",
    "                current_post.append(search_query)\n",
    "                posts.append(current_post)\n",
    "        else:\n",
    "            nb_rejected += 1\n",
    "            timestamps_rejected.append(timestamp)\n",
    "    \n",
    "print('Rejected {0} posts'.format(nb_rejected))\n",
    "print(timestamps_rejected)\n",
    "print('The scraping took {0}s'.format(time() - t0))"
   ]
  },
  {
   "cell_type": "code",
   "execution_count": 5,
   "metadata": {
    "collapsed": false,
    "deletable": true,
    "editable": true
   },
   "outputs": [
    {
     "data": {
      "image/png": "[encoded data removed]",
      "text/plain": [
       "<matplotlib.figure.Figure at 0x1167c7c10>"
      ]
     },
     "metadata": {},
     "output_type": "display_data"
    }
   ],
   "source": [
    "df_posts = pd.DataFrame(posts, columns=['id', 'post_url', 'type', 'timestamp', 'date',\n",
    "                                        'tags', 'liked', 'note_count', 'photo', 'text', 'search_query'])\n",
    "df_posts['timestamp'].plot()\n",
    "plt.show()"
   ]
  },
  {
   "cell_type": "code",
   "execution_count": 12,
   "metadata": {
    "collapsed": false,
    "deletable": true,
    "editable": true
   },
   "outputs": [],
   "source": [
    "if (not new_search):\n",
    "    # Concatenate and save the new posts\n",
    "    df_concat = pd.concat([df, df_posts]).reset_index(drop=True)\n",
    "    df_concat.to_csv('./data/' + search_query + '.csv', encoding='utf-8', index=False)\n",
    "else:\n",
    "    df_posts.to_csv('./data/' + search_query + '.csv', encoding='utf-8', index=False)"
   ]
  },
  {
   "cell_type": "markdown",
   "metadata": {
    "collapsed": true,
    "deletable": true,
    "editable": true
   },
   "source": [
    "## Word2vec"
   ]
  },
  {
   "cell_type": "code",
   "execution_count": 2,
   "metadata": {
    "collapsed": true,
    "deletable": true,
    "editable": true
   },
   "outputs": [],
   "source": [
    "df_happy = pd.read_csv('./data/happy.csv', encoding='utf-8')"
   ]
  },
  {
   "cell_type": "code",
   "execution_count": 3,
   "metadata": {
    "collapsed": true,
    "deletable": true,
    "editable": true
   },
   "outputs": [],
   "source": [
    "tokenizer = nltk.data.load('tokenizers/punkt/english.pickle')"
   ]
  },
  {
   "cell_type": "code",
   "execution_count": 4,
   "metadata": {
    "collapsed": false,
    "deletable": true,
    "editable": true
   },
   "outputs": [],
   "source": [
    "# Convert a sentence to a list of words\n",
    "def sentence_to_wordlist(sentence):\n",
    "    # Remove HTML\n",
    "    sentence_text = BeautifulSoup(sentence).get_text()\n",
    "    # Remove non-letters\n",
    "    sentence_text = re.sub('[^a-zA-Z]', ' ', sentence_text)\n",
    "    # Convert words to lower case and split them\n",
    "    words = sentence_text.lower().split()\n",
    "    return words\n",
    "\n",
    "# Break a paragraph into sentences thanks to a tokenizer,\n",
    "# then break each sentences into list of words\n",
    "# Used to train Word2Vec\n",
    "def paragraph_to_words(paragraph, tokenizer):\n",
    "    sentences = []\n",
    "    # Check for nan text\n",
    "    if (type(paragraph) == float) and (np.isnan(paragraph)):\n",
    "        pass\n",
    "    else:\n",
    "        raw_sentences = tokenizer.tokenize(paragraph.strip())\n",
    "        for elt in raw_sentences:\n",
    "            if (len(elt) > 0):\n",
    "                sentences.append(sentence_to_wordlist(elt))\n",
    "    return sentences\n",
    "\n",
    "# Once the model is trained, convert a paragraph into a matrix in\n",
    "# the Word2Vec space\n",
    "def paragraph_to_words_repr(paragraph, tokenizer, vocab, vocab_repr):\n",
    "    sentences = []\n",
    "    # Check for nan text\n",
    "    if (type(paragraph) == float) and (np.isnan(paragraph)):\n",
    "        pass\n",
    "    else:\n",
    "        raw_sentences = tokenizer.tokenize(paragraph.strip())\n",
    "        for elt in raw_sentences:\n",
    "            if (len(elt) > 0):\n",
    "                sentences.extend(sentence_to_wordlist(elt))\n",
    "\n",
    "    words_repr = []\n",
    "    for elt in sentences:\n",
    "        if elt in vocab:\n",
    "            words_repr.append(vocab_repr[elt])\n",
    "    return np.array(words_repr)"
   ]
  },
  {
   "cell_type": "code",
   "execution_count": 5,
   "metadata": {
    "collapsed": false,
    "deletable": true,
    "editable": true
   },
   "outputs": [],
   "source": [
    "def create_features(X):\n",
    "    train = X.copy()\n",
    "    tokenizer = nltk.data.load('tokenizers/punkt/english.pickle')\n",
    "    sentences = []\n",
    "\n",
    "    for text in train['text']:\n",
    "        sentences += paragraph_to_words(text, tokenizer)\n",
    "        \n",
    "    # Import the built-in logging module and configure it so that Word2Vec \n",
    "    # creates nice output messages\n",
    "    #logging.basicConfig(format='%(asctime)s : %(levelname)s : %(message)s',\\\n",
    "    #                    level=logging.INFO)\n",
    "    \n",
    "    # Set values for various parameters\n",
    "    num_features = 300    # Word vector dimensionality                      \n",
    "    min_word_count = 40   # Minimum word count                        \n",
    "    num_workers = 4       # Number of threads to run in parallel\n",
    "    context = 10          # Context window size                                                                                    \n",
    "    downsampling = 1e-3   # Downsample setting for frequent words\n",
    "\n",
    "    # Initialize and train the model (this will take some time)\n",
    "    print \"Training model...\"\n",
    "    model = word2vec.Word2Vec(sentences, workers=num_workers,\n",
    "                              size=num_features, min_count=min_word_count,\n",
    "                              window=context, sample=downsampling)\n",
    "\n",
    "    vocab = set(model.wv.vocab.keys())\n",
    "    words_repr = model.wv\n",
    "\n",
    "    train['text_list'] = train['text'].map(lambda x: paragraph_to_words_repr(x, tokenizer, vocab, words_repr))\n",
    "    mask = train['text_list'].map(len) > 0\n",
    "    train_reduced = train.loc[mask, :].reset_index(drop=True)\n",
    "    return (train_reduced, model)"
   ]
  },
  {
   "cell_type": "code",
   "execution_count": 6,
   "metadata": {
    "collapsed": false,
    "deletable": true,
    "editable": true
   },
   "outputs": [],
   "source": [
    "# Use only 2 emotions first: happiness and sadness\n",
    "df_happy = pd.read_csv('./data/happy.csv', encoding='utf-8')\n",
    "df_sad = pd.read_csv('./data/sad.csv', encoding='utf-8')\n",
    "\n",
    "# Convert a string representation of a list such as '[happy, sun, outdoors]'\n",
    "# to an actual set of strings {'happy', 'sun', 'outdoors'}\n",
    "def str_list_to_set(str_list):\n",
    "    output = str_list[1:-1].split(',')\n",
    "    output = set([x.strip() for x in output])\n",
    "    return output\n",
    "\n",
    "# Make sure that the relevant hashtag is in the post\n",
    "df_happy['tags'] = df_happy['tags'].map(str_list_to_set)\n",
    "mask_happy = df_happy['tags'].map(lambda x: 'happy' in x)\n",
    "df_happy = df_happy.loc[mask_happy, :].reset_index(drop=True)\n",
    "\n",
    "df_sad['tags'] = df_sad['tags'].map(str_list_to_set)\n",
    "mask_sad = df_sad['tags'].map(lambda x: 'sad' in x)\n",
    "df_sad = df_sad.loc[mask_sad, :].reset_index(drop=True)"
   ]
  },
  {
   "cell_type": "code",
   "execution_count": 7,
   "metadata": {
    "collapsed": false,
    "deletable": true,
    "editable": true
   },
   "outputs": [],
   "source": [
    "df_all = pd.concat([df_happy, df_sad]).reset_index(drop=True)"
   ]
  },
  {
   "cell_type": "code",
   "execution_count": 9,
   "metadata": {
    "collapsed": false,
    "deletable": true,
    "editable": true
   },
   "outputs": [],
   "source": [
    "df_all = df_all[:50]"
   ]
  },
  {
   "cell_type": "code",
   "execution_count": 10,
   "metadata": {
    "collapsed": false,
    "deletable": true,
    "editable": true
   },
   "outputs": [
    {
     "name": "stderr",
     "output_type": "stream",
     "text": [
      "//anaconda/envs/tensorflow/lib/python2.7/site-packages/bs4/__init__.py:181: UserWarning: No parser was explicitly specified, so I'm using the best available HTML parser for this system (\"html5lib\"). This usually isn't a problem, but if you run this code on another system, or in a different virtual environment, it may use a different parser and behave differently.\n",
      "\n",
      "The code that caused this warning is on line 174 of the file //anaconda/envs/tensorflow/lib/python2.7/runpy.py. To get rid of this warning, change code that looks like this:\n",
      "\n",
      " BeautifulSoup(YOUR_MARKUP})\n",
      "\n",
      "to this:\n",
      "\n",
      " BeautifulSoup(YOUR_MARKUP, \"html5lib\")\n",
      "\n",
      "  markup_type=markup_type))\n",
      "//anaconda/envs/tensorflow/lib/python2.7/site-packages/bs4/__init__.py:219: UserWarning: \".\" looks like a filename, not markup. You should probably open this file and pass the filehandle into Beautiful Soup.\n",
      "  ' Beautiful Soup.' % markup)\n"
     ]
    },
    {
     "name": "stdout",
     "output_type": "stream",
     "text": [
      "Training model...\n"
     ]
    }
   ],
   "source": [
    "train, model = create_features(df_all)\n",
    "\n",
    "# Binarise emotions\n",
    "emotion_dict = dict(zip(['happy', 'sad'], [1, 0]))\n",
    "train['search_query'] =  train['search_query'].map(emotion_dict)"
   ]
  },
  {
   "cell_type": "code",
   "execution_count": 12,
   "metadata": {
    "collapsed": false
   },
   "outputs": [],
   "source": [
    "model.wv.save_word2vec_format('small_model.bin', binary=True)"
   ]
  },
  {
   "cell_type": "code",
   "execution_count": 1,
   "metadata": {
    "collapsed": true
   },
   "outputs": [],
   "source": [
    "import gensim\n",
    "model = gensim.models.keyedvectors.KeyedVectors.load_word2vec_format('small_model.bin', binary=True)"
   ]
  },
  {
   "cell_type": "code",
   "execution_count": 4,
   "metadata": {
    "collapsed": false
   },
   "outputs": [
    {
     "data": {
      "text/plain": [
       "array([[  1.65942183e-03,  -5.55102481e-04,  -2.40064954e-04, ...,\n",
       "          5.73514437e-04,  -1.03433290e-03,   1.64276024e-03],\n",
       "       [  1.32755353e-03,  -1.52046629e-03,   3.24133616e-05, ...,\n",
       "          1.60464400e-03,  -5.41558373e-04,   1.03896682e-03],\n",
       "       [  5.53138052e-05,   8.06477678e-04,   4.04818857e-04, ...,\n",
       "          1.42612553e-03,   1.42030287e-04,  -2.43251168e-04],\n",
       "       [ -1.46116261e-04,  -1.94027103e-04,  -1.85558383e-04, ...,\n",
       "         -1.45258906e-04,   9.35661083e-04,   1.38525607e-03]], dtype=float32)"
      ]
     },
     "execution_count": 4,
     "metadata": {},
     "output_type": "execute_result"
    }
   ],
   "source": [
    "model.syn0"
   ]
  },
  {
   "cell_type": "code",
   "execution_count": 7,
   "metadata": {
    "collapsed": false
   },
   "outputs": [
    {
     "data": {
      "text/plain": [
       "'2.1.0'"
      ]
     },
     "execution_count": 7,
     "metadata": {},
     "output_type": "execute_result"
    }
   ],
   "source": [
    "gensim.__version__"
   ]
  },
  {
   "cell_type": "markdown",
   "metadata": {
    "deletable": true,
    "editable": true
   },
   "source": [
    "## Random Fourier features"
   ]
  },
  {
   "cell_type": "code",
   "execution_count": 17,
   "metadata": {
    "collapsed": false,
    "deletable": true,
    "editable": true
   },
   "outputs": [
    {
     "data": {
      "text/plain": [
       "(10, 300)"
      ]
     },
     "execution_count": 17,
     "metadata": {},
     "output_type": "execute_result"
    }
   ],
   "source": [
    "train['text_list'][1].shape"
   ]
  },
  {
   "cell_type": "code",
   "execution_count": 18,
   "metadata": {
    "collapsed": false,
    "deletable": true,
    "editable": true
   },
   "outputs": [],
   "source": [
    "n_components = 400\n",
    "random_seed = 8\n",
    "rbf = RBFSampler(gamma=1, n_components=n_components, random_state=random_seed)\n",
    "for i in range(n_components):\n",
    "    train['rbf_feature_' + str(i)] = 0\n",
    "rbf_columns = ['rbf_feature_' + str(i) for i in range(n_components)]\n",
    "train[rbf_columns] = np.vstack(train['text_list'].map(lambda x: rbf.fit_transform(x).mean(axis=0)))"
   ]
  },
  {
   "cell_type": "code",
   "execution_count": 27,
   "metadata": {
    "collapsed": false,
    "deletable": true,
    "editable": true
   },
   "outputs": [],
   "source": [
    "# Other representation, without RBF\n",
    "num_features = 300\n",
    "random_seed = 8\n",
    "mean_features = ['mean_feature_' + str(i) for i in range(num_features)]\n",
    "for col in mean_features:\n",
    "    train[col] = 0\n",
    "train[mean_features] = np.vstack(train['text_list'].map(lambda x: x.mean(axis=0)))"
   ]
  },
  {
   "cell_type": "markdown",
   "metadata": {
    "deletable": true,
    "editable": true
   },
   "source": [
    "## Prediction"
   ]
  },
  {
   "cell_type": "code",
   "execution_count": 19,
   "metadata": {
    "collapsed": false,
    "deletable": true,
    "editable": true
   },
   "outputs": [
    {
     "name": "stdout",
     "output_type": "stream",
     "text": [
      "Train score: 0.814135520767\n",
      "Test score: 0.812481466505\n"
     ]
    }
   ],
   "source": [
    "X_train, X_test, y_train, y_test = train_test_split(train[rbf_columns], train['search_query'], \n",
    "                                                    test_size=0.3, random_state=random_seed)\n",
    "#forest = RandomForestClassifier(max_depth=15, random_state=random_seed)\n",
    "#forest.fit(X_train, y_train)\n",
    "log_reg = LogisticRegression(random_state=random_seed)\n",
    "log_reg.fit(X_train, y_train)\n",
    "y_train_pred = log_reg.predict(X_train)\n",
    "y_test_pred = log_reg.predict(X_test)\n",
    "print('Train score: {0}'.format(accuracy_score(y_train_pred, y_train)))\n",
    "print('Test score: {0}'.format(accuracy_score(y_test_pred, y_test)))"
   ]
  },
  {
   "cell_type": "code",
   "execution_count": 28,
   "metadata": {
    "collapsed": false,
    "deletable": true,
    "editable": true
   },
   "outputs": [
    {
     "name": "stdout",
     "output_type": "stream",
     "text": [
      "Train score: 0.85882964589\n",
      "Test score: 0.86019679202\n"
     ]
    }
   ],
   "source": [
    "# With mean features\n",
    "X_train, X_test, y_train, y_test = train_test_split(train[mean_features], train['search_query'], \n",
    "                                                    test_size=0.3, random_state=random_seed)\n",
    "#forest = RandomForestClassifier(max_depth=15, random_state=random_seed)\n",
    "#forest.fit(X_train, y_train)\n",
    "log_reg = LogisticRegression(random_state=random_seed)\n",
    "log_reg.fit(X_train, y_train)\n",
    "y_train_pred = log_reg.predict(X_train)\n",
    "y_test_pred = log_reg.predict(X_test)\n",
    "print('Train score: {0}'.format(accuracy_score(y_train_pred, y_train)))\n",
    "print('Test score: {0}'.format(accuracy_score(y_test_pred, y_test)))"
   ]
  },
  {
   "cell_type": "code",
   "execution_count": 38,
   "metadata": {
    "collapsed": false,
    "deletable": true,
    "editable": true
   },
   "outputs": [
    {
     "data": {
      "text/plain": [
       "[(-2.8827834248291402, 55),\n",
       " (-2.8124139227226754, 236),\n",
       " (-2.6812655119110405, 24),\n",
       " (-2.6762807585959876, 103),\n",
       " (-2.6502919228441297, 173),\n",
       " (-2.5075418914996517, 137),\n",
       " (-2.4911933236573724, 93),\n",
       " (-2.4672354382535877, 266),\n",
       " (-2.4433347327073891, 119),\n",
       " (-2.3788464261661915, 180),\n",
       " (-2.3307347663563069, 201),\n",
       " (-2.2903054568151471, 283),\n",
       " (-2.281914462965593, 32),\n",
       " (-2.1232339254045631, 19),\n",
       " (-2.0542173388319376, 281),\n",
       " (-2.0506230160033136, 174),\n",
       " (-2.0014828017009636, 139),\n",
       " (-1.9205927423088367, 284),\n",
       " (-1.880189952908941, 285),\n",
       " (-1.8801101761466934, 254)]"
      ]
     },
     "execution_count": 38,
     "metadata": {},
     "output_type": "execute_result"
    }
   ],
   "source": [
    "top_coefs = sorted(zip(log_reg.coef_.reshape(-1), np.arange(num_features, dtype=int)), reverse=False)[:20]\n",
    "top_coefs_indices = [x[1] for x in top_coefs]\n",
    "top_coefs"
   ]
  },
  {
   "cell_type": "code",
   "execution_count": 39,
   "metadata": {
    "collapsed": false,
    "deletable": true,
    "editable": true
   },
   "outputs": [
    {
     "data": {
      "text/plain": [
       "[[u'instagood', u'fun', u'picoftheday', u'en', u'instalove'],\n",
       " [u'matter', u'reason', u'am', u'summer', u'fix'],\n",
       " [u'talk', u'such', u'how', u'quite', u'both'],\n",
       " [u'gif', u'people', u'trending', u'music', u'hanging'],\n",
       " [u'out', u'these', u'https', u'lot', u'send'],\n",
       " [u'wasn', u'beauty', u'fingers', u'bringing', u'hanging'],\n",
       " [u'che', u'photooftheday', u'instalike', u'em', u'das'],\n",
       " [u'stop', u'things', u'k', u'tired', u'wednesday'],\n",
       " [u'gph', u'took', u'in', u'into', u'around'],\n",
       " [u'tt', u'o', u'uma', u'lots', u'djale'],\n",
       " [u'your', u'away', u'you', u'smile', u'sky'],\n",
       " [u'someone', u'stop', u'friend', u'happen', u'start'],\n",
       " [u'an', u'such', u'movies', u'ate', u'wine'],\n",
       " [u'how', u'tired', u'otra', u'hanging', u'solopreneurs'],\n",
       " [u'been', u'talked', u'wasn', u'drinks', u'hanging'],\n",
       " [u'mom', u'go', u'came', u'wasn', u'hanging'],\n",
       " [u'than', u're', u'funny', u'hot', u'loathing'],\n",
       " [u'didn', u'wasn', u'wrong', u'until', u'brought'],\n",
       " [u'up', u'be', u'ever', u'mail', u'hold'],\n",
       " [u'while', u'away', u'they', u'week', u'drinks']]"
      ]
     },
     "execution_count": 39,
     "metadata": {},
     "output_type": "execute_result"
    }
   ],
   "source": [
    "def find_k_most_relevant_word(n_col, vocab, model_repr, k):\n",
    "    max_coefs = [0] * k\n",
    "    max_words = [''] * k\n",
    "    for word in vocab:\n",
    "        coef = model_repr[word][n_col]\n",
    "        if (coef > max_coefs[0]):\n",
    "            max_coefs[1:] = max_coefs[:-1]\n",
    "            max_coefs[0] = coef\n",
    "            max_words[1:] = max_words[:-1]\n",
    "            max_words[0] = word\n",
    "    return max_words\n",
    "\n",
    "vocab = model.wv.vocab.keys()\n",
    "model_repr = model.wv\n",
    "\n",
    "[find_k_most_relevant_word(i, vocab, model_repr, 5) for i in top_coefs_indices]"
   ]
  },
  {
   "cell_type": "markdown",
   "metadata": {
    "collapsed": true,
    "deletable": true,
    "editable": true
   },
   "source": [
    "* add more emotions https://upload.wikimedia.org/wikipedia/commons/c/ce/Plutchik-wheel.svg\n",
    "* multiple emotions for structure of emotions"
   ]
  },
  {
   "cell_type": "code",
   "execution_count": null,
   "metadata": {
    "collapsed": true,
    "deletable": true,
    "editable": true
   },
   "outputs": [],
   "source": []
  }
 ],
 "metadata": {
  "kernelspec": {
   "display_name": "Python 2",
   "language": "python",
   "name": "python2"
  },
  "language_info": {
   "codemirror_mode": {
    "name": "ipython",
    "version": 2
   },
   "file_extension": ".py",
   "mimetype": "text/x-python",
   "name": "python",
   "nbconvert_exporter": "python",
   "pygments_lexer": "ipython2",
   "version": "2.7.13"
  }
 },
 "nbformat": 4,
 "nbformat_minor": 2
}
